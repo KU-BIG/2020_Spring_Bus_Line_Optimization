{
 "cells": [
  {
   "cell_type": "code",
   "execution_count": 1,
   "metadata": {},
   "outputs": [],
   "source": [
    "import pandas as pd"
   ]
  },
  {
   "cell_type": "code",
   "execution_count": 2,
   "metadata": {},
   "outputs": [],
   "source": [
    "stations = pd.read_csv(\"stations_table.csv\")\n",
    "stations = stations[['표준정류장ID','이비카드정류장ID','관할관청','WGS84위도','WGS84경도']]\n",
    "stations.columns = ['표준정류장ID', '이비카드정류장ID', '관할관청','위도','경도']"
   ]
  },
  {
   "cell_type": "code",
   "execution_count": 3,
   "metadata": {},
   "outputs": [
    {
     "data": {
      "text/plain": [
       "12542"
      ]
     },
     "execution_count": 3,
     "metadata": {},
     "output_type": "execute_result"
    }
   ],
   "source": [
    "stations['표준정류장ID'].isna().sum()\n",
    "stations['이비카드정류장ID'].isna().sum()"
   ]
  },
  {
   "cell_type": "code",
   "execution_count": 4,
   "metadata": {},
   "outputs": [],
   "source": [
    "stations.dropna(subset=[\"이비카드정류장ID\"],inplace = True)"
   ]
  },
  {
   "cell_type": "code",
   "execution_count": 5,
   "metadata": {},
   "outputs": [
    {
     "data": {
      "text/html": [
       "<div>\n",
       "<style scoped>\n",
       "    .dataframe tbody tr th:only-of-type {\n",
       "        vertical-align: middle;\n",
       "    }\n",
       "\n",
       "    .dataframe tbody tr th {\n",
       "        vertical-align: top;\n",
       "    }\n",
       "\n",
       "    .dataframe thead th {\n",
       "        text-align: right;\n",
       "    }\n",
       "</style>\n",
       "<table border=\"1\" class=\"dataframe\">\n",
       "  <thead>\n",
       "    <tr style=\"text-align: right;\">\n",
       "      <th></th>\n",
       "      <th>pr_station_id</th>\n",
       "      <th>bus_line_no</th>\n",
       "      <th>bus_line_no_seq</th>\n",
       "      <th>station_nm</th>\n",
       "      <th>station_id</th>\n",
       "      <th>mobile_no</th>\n",
       "    </tr>\n",
       "  </thead>\n",
       "  <tbody>\n",
       "    <tr>\n",
       "      <th>0</th>\n",
       "      <td>228000018</td>\n",
       "      <td>10-4</td>\n",
       "      <td>1</td>\n",
       "      <td>용인터미널</td>\n",
       "      <td>228001552</td>\n",
       "      <td>47634.0</td>\n",
       "    </tr>\n",
       "    <tr>\n",
       "      <th>1</th>\n",
       "      <td>228000018</td>\n",
       "      <td>10-4</td>\n",
       "      <td>2</td>\n",
       "      <td>용인터미널(경유)</td>\n",
       "      <td>277102443</td>\n",
       "      <td>NaN</td>\n",
       "    </tr>\n",
       "    <tr>\n",
       "      <th>2</th>\n",
       "      <td>228000018</td>\n",
       "      <td>10-4</td>\n",
       "      <td>3</td>\n",
       "      <td>포브스병원</td>\n",
       "      <td>228000443</td>\n",
       "      <td>29439.0</td>\n",
       "    </tr>\n",
       "    <tr>\n",
       "      <th>3</th>\n",
       "      <td>228000018</td>\n",
       "      <td>10-4</td>\n",
       "      <td>4</td>\n",
       "      <td>제일교회</td>\n",
       "      <td>228000665</td>\n",
       "      <td>29881.0</td>\n",
       "    </tr>\n",
       "    <tr>\n",
       "      <th>4</th>\n",
       "      <td>228000018</td>\n",
       "      <td>10-4</td>\n",
       "      <td>5</td>\n",
       "      <td>라이프아파트</td>\n",
       "      <td>228000664</td>\n",
       "      <td>29457.0</td>\n",
       "    </tr>\n",
       "    <tr>\n",
       "      <th>...</th>\n",
       "      <td>...</td>\n",
       "      <td>...</td>\n",
       "      <td>...</td>\n",
       "      <td>...</td>\n",
       "      <td>...</td>\n",
       "      <td>...</td>\n",
       "    </tr>\n",
       "    <tr>\n",
       "      <th>37826</th>\n",
       "      <td>241491011</td>\n",
       "      <td>38-1</td>\n",
       "      <td>63</td>\n",
       "      <td>신일해피트리후문</td>\n",
       "      <td>233002733</td>\n",
       "      <td>NaN</td>\n",
       "    </tr>\n",
       "    <tr>\n",
       "      <th>37827</th>\n",
       "      <td>241491011</td>\n",
       "      <td>38-1</td>\n",
       "      <td>64</td>\n",
       "      <td>기배동행정복지센터</td>\n",
       "      <td>233002726</td>\n",
       "      <td>NaN</td>\n",
       "    </tr>\n",
       "    <tr>\n",
       "      <th>37828</th>\n",
       "      <td>241491011</td>\n",
       "      <td>38-1</td>\n",
       "      <td>65</td>\n",
       "      <td>기안1통입구</td>\n",
       "      <td>233002959</td>\n",
       "      <td>NaN</td>\n",
       "    </tr>\n",
       "    <tr>\n",
       "      <th>37829</th>\n",
       "      <td>241491011</td>\n",
       "      <td>38-1</td>\n",
       "      <td>66</td>\n",
       "      <td>배양2리</td>\n",
       "      <td>233002717</td>\n",
       "      <td>55455.0</td>\n",
       "    </tr>\n",
       "    <tr>\n",
       "      <th>37830</th>\n",
       "      <td>241491011</td>\n",
       "      <td>38-1</td>\n",
       "      <td>67</td>\n",
       "      <td>배양1동</td>\n",
       "      <td>233532650</td>\n",
       "      <td>NaN</td>\n",
       "    </tr>\n",
       "  </tbody>\n",
       "</table>\n",
       "<p>37831 rows × 6 columns</p>\n",
       "</div>"
      ],
      "text/plain": [
       "       pr_station_id bus_line_no  bus_line_no_seq station_nm  station_id  \\\n",
       "0          228000018        10-4                1      용인터미널   228001552   \n",
       "1          228000018        10-4                2  용인터미널(경유)   277102443   \n",
       "2          228000018        10-4                3      포브스병원   228000443   \n",
       "3          228000018        10-4                4       제일교회   228000665   \n",
       "4          228000018        10-4                5     라이프아파트   228000664   \n",
       "...              ...         ...              ...        ...         ...   \n",
       "37826      241491011        38-1               63   신일해피트리후문   233002733   \n",
       "37827      241491011        38-1               64  기배동행정복지센터   233002726   \n",
       "37828      241491011        38-1               65     기안1통입구   233002959   \n",
       "37829      241491011        38-1               66       배양2리   233002717   \n",
       "37830      241491011        38-1               67       배양1동   233532650   \n",
       "\n",
       "       mobile_no  \n",
       "0        47634.0  \n",
       "1            NaN  \n",
       "2        29439.0  \n",
       "3        29881.0  \n",
       "4        29457.0  \n",
       "...          ...  \n",
       "37826        NaN  \n",
       "37827        NaN  \n",
       "37828        NaN  \n",
       "37829    55455.0  \n",
       "37830        NaN  \n",
       "\n",
       "[37831 rows x 6 columns]"
      ]
     },
     "execution_count": 5,
     "metadata": {},
     "output_type": "execute_result"
    }
   ],
   "source": [
    "combined = pd.read_csv(\"routestationinfo.csv\")\n",
    "combined.drop(combined.columns[0],axis=1)"
   ]
  },
  {
   "cell_type": "code",
   "execution_count": 6,
   "metadata": {},
   "outputs": [],
   "source": [
    "combined = combined[['bus_line_no', 'station_nm', 'station_id']]\n",
    "combined.columns = ['노선번호', '정류장이름', '표준정류장ID']"
   ]
  },
  {
   "cell_type": "code",
   "execution_count": 7,
   "metadata": {},
   "outputs": [],
   "source": [
    "re_combined = pd.merge(combined, stations, on = \"표준정류장ID\")\n",
    "re_combined = re_combined[re_combined['관할관청'] == '경기도 화성시']"
   ]
  },
  {
   "cell_type": "code",
   "execution_count": 8,
   "metadata": {},
   "outputs": [
    {
     "data": {
      "text/html": [
       "<div>\n",
       "<style scoped>\n",
       "    .dataframe tbody tr th:only-of-type {\n",
       "        vertical-align: middle;\n",
       "    }\n",
       "\n",
       "    .dataframe tbody tr th {\n",
       "        vertical-align: top;\n",
       "    }\n",
       "\n",
       "    .dataframe thead th {\n",
       "        text-align: right;\n",
       "    }\n",
       "</style>\n",
       "<table border=\"1\" class=\"dataframe\">\n",
       "  <thead>\n",
       "    <tr style=\"text-align: right;\">\n",
       "      <th></th>\n",
       "      <th>정류장이름</th>\n",
       "      <th>표준정류장ID</th>\n",
       "      <th>이비카드정류장ID</th>\n",
       "      <th>관할관청</th>\n",
       "      <th>위도</th>\n",
       "      <th>경도</th>\n",
       "    </tr>\n",
       "  </thead>\n",
       "  <tbody>\n",
       "    <tr>\n",
       "      <th>1522</th>\n",
       "      <td>한원IC</td>\n",
       "      <td>233000169</td>\n",
       "      <td>4170725.0</td>\n",
       "      <td>경기도 화성시</td>\n",
       "      <td>37.152733</td>\n",
       "      <td>127.122883</td>\n",
       "    </tr>\n",
       "    <tr>\n",
       "      <th>1523</th>\n",
       "      <td>장지동</td>\n",
       "      <td>233000168</td>\n",
       "      <td>4170397.0</td>\n",
       "      <td>경기도 화성시</td>\n",
       "      <td>37.155117</td>\n",
       "      <td>127.117900</td>\n",
       "    </tr>\n",
       "    <tr>\n",
       "      <th>1526</th>\n",
       "      <td>장지동</td>\n",
       "      <td>233000167</td>\n",
       "      <td>4170396.0</td>\n",
       "      <td>경기도 화성시</td>\n",
       "      <td>37.155867</td>\n",
       "      <td>127.115017</td>\n",
       "    </tr>\n",
       "    <tr>\n",
       "      <th>1529</th>\n",
       "      <td>꽃가마약수터</td>\n",
       "      <td>233000166</td>\n",
       "      <td>4170395.0</td>\n",
       "      <td>경기도 화성시</td>\n",
       "      <td>37.159100</td>\n",
       "      <td>127.099350</td>\n",
       "    </tr>\n",
       "    <tr>\n",
       "      <th>1607</th>\n",
       "      <td>꽃가마약수터</td>\n",
       "      <td>233001323</td>\n",
       "      <td>4170651.0</td>\n",
       "      <td>경기도 화성시</td>\n",
       "      <td>37.158900</td>\n",
       "      <td>127.098750</td>\n",
       "    </tr>\n",
       "  </tbody>\n",
       "</table>\n",
       "</div>"
      ],
      "text/plain": [
       "       정류장이름    표준정류장ID  이비카드정류장ID     관할관청         위도          경도\n",
       "1522    한원IC  233000169  4170725.0  경기도 화성시  37.152733  127.122883\n",
       "1523     장지동  233000168  4170397.0  경기도 화성시  37.155117  127.117900\n",
       "1526     장지동  233000167  4170396.0  경기도 화성시  37.155867  127.115017\n",
       "1529  꽃가마약수터  233000166  4170395.0  경기도 화성시  37.159100  127.099350\n",
       "1607  꽃가마약수터  233001323  4170651.0  경기도 화성시  37.158900  127.098750"
      ]
     },
     "execution_count": 8,
     "metadata": {},
     "output_type": "execute_result"
    }
   ],
   "source": [
    "re_combined = re_combined.drop(re_combined.columns[0], axis = 1)\n",
    "final_combined = re_combined.drop_duplicates()\n",
    "final_combined.head()"
   ]
  },
  {
   "cell_type": "code",
   "execution_count": 9,
   "metadata": {},
   "outputs": [],
   "source": [
    "tripchain = pd.read_csv(\"TripChain.csv\", encoding = \"utf-8\")"
   ]
  },
  {
   "cell_type": "code",
   "execution_count": 10,
   "metadata": {},
   "outputs": [
    {
     "data": {
      "text/plain": [
       "Index(['암호화카드번호||'', ''||트랜잭션ID||'', ''||환승횟수||'', ''||교통카드발행사ID||'',\n",
       "       ''||총이용객수||'', ''||사용자구분||'', ''||교통수단CD1||'', ''||교통수단CD2||'',\n",
       "       ''||교통수단CD3||'', ''||교통수단CD4||'', ''||교통수단CD5||'', ''||버스노선ID1||'',\n",
       "       ''||버스노선ID2||'', ''||버스노선ID3||'', ''||버스노선ID4||'', ''||버스노선ID5||'',\n",
       "       ''||차량ID1||'', ''||차량ID2||'', ''||차량ID3||'', ''||차량ID4||'',\n",
       "       ''||차량ID5||'', ''||총통행거리||'', ''||총탑승시간||'', ''||총소요시간||'',\n",
       "       ''||승차일시1||'', ''||승차일시2||'', ''||승차일시3||'', ''||승차일시4||'',\n",
       "       ''||승차일시5||'', ''||하차일시1||'', ''||하차일시2||'', ''||하차일시3||'',\n",
       "       ''||하차일시4||'', ''||하차일시5||'', ''||최초승차일시||'', ''||최종하차일시||'',\n",
       "       ''||승차역ID1||'', ''||승차역ID2||'', ''||승차역ID3||'', ''||승차역ID4||'',\n",
       "       ''||승차역ID5||'', ''||하차역ID1||'', ''||하차역ID2||'', ''||하차역ID3||'',\n",
       "       ''||하차역ID4||'', ''||하차역ID5||'', ''||최초승차역ID||'', ''||최종하차역ID||'',\n",
       "       ''||총이용금액||'', ''||수집건수||'', ''||트립체인완료코드'],\n",
       "      dtype='object')"
      ]
     },
     "execution_count": 10,
     "metadata": {},
     "output_type": "execute_result"
    }
   ],
   "source": [
    "tripchain.columns"
   ]
  },
  {
   "cell_type": "code",
   "execution_count": 11,
   "metadata": {},
   "outputs": [],
   "source": [
    "tripchain = tripchain[[\"'||사용자구분||'\",\"'||최초승차일시||'\",\"'||최종하차일시||'\",\"'||승차역ID1||'\",\"'||최종하차역ID||'\"]]"
   ]
  },
  {
   "cell_type": "code",
   "execution_count": 12,
   "metadata": {},
   "outputs": [],
   "source": [
    "tripchain.columns = ['사용자구분','최초승차일시','최종하차일시','최초승차역ID','최종하차역ID']"
   ]
  },
  {
   "cell_type": "code",
   "execution_count": 13,
   "metadata": {},
   "outputs": [],
   "source": [
    "to_str = tripchain['최초승차일시'].astype(str)\n",
    "to_df = pd.DataFrame(to_str)\n",
    "to_dt = pd.to_datetime(to_df['최초승차일시'], errors = 'coerce')\n",
    "dt_to_df = pd.DataFrame(to_dt)\n",
    "tripchain['최초승차일시'] = dt_to_df"
   ]
  },
  {
   "cell_type": "code",
   "execution_count": 14,
   "metadata": {},
   "outputs": [],
   "source": [
    "tripchain['최종하차일시'] = pd.to_datetime(tripchain['최종하차일시'], errors = 'coerce')"
   ]
  },
  {
   "cell_type": "code",
   "execution_count": 15,
   "metadata": {},
   "outputs": [],
   "source": [
    "tripchain['승차시간대'] = tripchain['최초승차일시'].dt.strftime('%H')\n",
    "tripchain['하차시간대'] = tripchain['최종하차일시'].dt.strftime('%H')"
   ]
  },
  {
   "cell_type": "code",
   "execution_count": 16,
   "metadata": {},
   "outputs": [
    {
     "data": {
      "text/html": [
       "<div>\n",
       "<style scoped>\n",
       "    .dataframe tbody tr th:only-of-type {\n",
       "        vertical-align: middle;\n",
       "    }\n",
       "\n",
       "    .dataframe tbody tr th {\n",
       "        vertical-align: top;\n",
       "    }\n",
       "\n",
       "    .dataframe thead th {\n",
       "        text-align: right;\n",
       "    }\n",
       "</style>\n",
       "<table border=\"1\" class=\"dataframe\">\n",
       "  <thead>\n",
       "    <tr style=\"text-align: right;\">\n",
       "      <th></th>\n",
       "      <th>사용자구분</th>\n",
       "      <th>최초승차일시</th>\n",
       "      <th>최종하차일시</th>\n",
       "      <th>최초승차역ID</th>\n",
       "      <th>최종하차역ID</th>\n",
       "      <th>승차시간대</th>\n",
       "      <th>하차시간대</th>\n",
       "    </tr>\n",
       "  </thead>\n",
       "  <tbody>\n",
       "    <tr>\n",
       "      <th>1</th>\n",
       "      <td>1</td>\n",
       "      <td>2018-07-01 07:21:56</td>\n",
       "      <td>2018-07-01 07:25:20</td>\n",
       "      <td>4117280.0</td>\n",
       "      <td>4117269.0</td>\n",
       "      <td>07</td>\n",
       "      <td>07</td>\n",
       "    </tr>\n",
       "    <tr>\n",
       "      <th>4</th>\n",
       "      <td>1</td>\n",
       "      <td>2018-07-01 08:50:58</td>\n",
       "      <td>2018-07-01 08:59:10</td>\n",
       "      <td>4100122.0</td>\n",
       "      <td>4116848.0</td>\n",
       "      <td>08</td>\n",
       "      <td>08</td>\n",
       "    </tr>\n",
       "    <tr>\n",
       "      <th>6</th>\n",
       "      <td>1</td>\n",
       "      <td>2018-07-01 07:57:31</td>\n",
       "      <td>2018-07-01 08:53:59</td>\n",
       "      <td>4197606.0</td>\n",
       "      <td>4116627.0</td>\n",
       "      <td>07</td>\n",
       "      <td>08</td>\n",
       "    </tr>\n",
       "    <tr>\n",
       "      <th>10</th>\n",
       "      <td>1</td>\n",
       "      <td>2018-07-01 09:10:18</td>\n",
       "      <td>2018-07-01 09:32:31</td>\n",
       "      <td>4116704.0</td>\n",
       "      <td>4151749.0</td>\n",
       "      <td>09</td>\n",
       "      <td>09</td>\n",
       "    </tr>\n",
       "    <tr>\n",
       "      <th>23</th>\n",
       "      <td>1</td>\n",
       "      <td>2018-07-01 09:34:24</td>\n",
       "      <td>2018-07-01 09:49:49</td>\n",
       "      <td>4198644.0</td>\n",
       "      <td>4108007.0</td>\n",
       "      <td>09</td>\n",
       "      <td>09</td>\n",
       "    </tr>\n",
       "  </tbody>\n",
       "</table>\n",
       "</div>"
      ],
      "text/plain": [
       "    사용자구분              최초승차일시              최종하차일시    최초승차역ID    최종하차역ID 승차시간대  \\\n",
       "1       1 2018-07-01 07:21:56 2018-07-01 07:25:20  4117280.0  4117269.0    07   \n",
       "4       1 2018-07-01 08:50:58 2018-07-01 08:59:10  4100122.0  4116848.0    08   \n",
       "6       1 2018-07-01 07:57:31 2018-07-01 08:53:59  4197606.0  4116627.0    07   \n",
       "10      1 2018-07-01 09:10:18 2018-07-01 09:32:31  4116704.0  4151749.0    09   \n",
       "23      1 2018-07-01 09:34:24 2018-07-01 09:49:49  4198644.0  4108007.0    09   \n",
       "\n",
       "   하차시간대  \n",
       "1     07  \n",
       "4     08  \n",
       "6     08  \n",
       "10    09  \n",
       "23    09  "
      ]
     },
     "execution_count": 16,
     "metadata": {},
     "output_type": "execute_result"
    }
   ],
   "source": [
    "morning = ['07','08','09']\n",
    "evening = ['18','19','20']\n",
    "df_morning = tripchain[tripchain['승차시간대'].isin(morning)]\n",
    "df_evening = tripchain[tripchain['하차시간대'].isin(evening)]\n",
    "df_morning.head()"
   ]
  },
  {
   "cell_type": "code",
   "execution_count": 17,
   "metadata": {},
   "outputs": [],
   "source": [
    "df_morning_on = df_morning[['사용자구분','최초승차일시','최초승차역ID','승차시간대']]\n",
    "df_morning_off = df_morning[['사용자구분','최종하차일시','최종하차역ID','하차시간대']]"
   ]
  },
  {
   "cell_type": "code",
   "execution_count": 18,
   "metadata": {},
   "outputs": [],
   "source": [
    "df_evening_on = df_evening[['사용자구분','최초승차일시','최초승차역ID','승차시간대']]\n",
    "df_evening_off = df_evening[['사용자구분','최종하차일시','최종하차역ID','하차시간대']]"
   ]
  },
  {
   "cell_type": "code",
   "execution_count": 19,
   "metadata": {},
   "outputs": [
    {
     "name": "stderr",
     "output_type": "stream",
     "text": [
      "C:\\Users\\Yeonjae Hwang\\anaconda3\\lib\\site-packages\\pandas\\core\\frame.py:4133: SettingWithCopyWarning: \n",
      "A value is trying to be set on a copy of a slice from a DataFrame\n",
      "\n",
      "See the caveats in the documentation: https://pandas.pydata.org/pandas-docs/stable/user_guide/indexing.html#returning-a-view-versus-a-copy\n",
      "  errors=errors,\n"
     ]
    }
   ],
   "source": [
    "df_morning_on.rename(columns ={'최초승차역ID':'이비카드정류장ID'}, inplace = True)\n",
    "df_morning_off.rename(columns ={'최종하차역ID':'이비카드정류장ID'}, inplace = True)"
   ]
  },
  {
   "cell_type": "code",
   "execution_count": 20,
   "metadata": {},
   "outputs": [],
   "source": [
    "df_79_on = pd.merge(df_morning_on, final_combined, on = '이비카드정류장ID')\n",
    "df_79_off = pd.merge(df_morning_off, final_combined, on = \"이비카드정류장ID\")"
   ]
  },
  {
   "cell_type": "code",
   "execution_count": 21,
   "metadata": {},
   "outputs": [],
   "source": [
    "df_evening_on.rename(columns ={'최초승차역ID':'이비카드정류장ID'}, inplace = True)\n",
    "df_evening_off.rename(columns ={'최종하차역ID':'이비카드정류장ID'}, inplace = True)"
   ]
  },
  {
   "cell_type": "code",
   "execution_count": 38,
   "metadata": {},
   "outputs": [],
   "source": [
    "df_1820_on = pd.merge(df_evening_on, final_combined, on = '이비카드정류장ID')\n",
    "df_1820_off = pd.merge(df_evening_off, final_combined, on = '이비카드정류장ID')"
   ]
  },
  {
   "cell_type": "code",
   "execution_count": 39,
   "metadata": {},
   "outputs": [],
   "source": [
    "from collections import Counter"
   ]
  },
  {
   "cell_type": "code",
   "execution_count": 40,
   "metadata": {},
   "outputs": [
    {
     "data": {
      "text/html": [
       "<div>\n",
       "<style scoped>\n",
       "    .dataframe tbody tr th:only-of-type {\n",
       "        vertical-align: middle;\n",
       "    }\n",
       "\n",
       "    .dataframe tbody tr th {\n",
       "        vertical-align: top;\n",
       "    }\n",
       "\n",
       "    .dataframe thead th {\n",
       "        text-align: right;\n",
       "    }\n",
       "</style>\n",
       "<table border=\"1\" class=\"dataframe\">\n",
       "  <thead>\n",
       "    <tr style=\"text-align: right;\">\n",
       "      <th></th>\n",
       "      <th>정류장이름</th>\n",
       "      <th>횟수</th>\n",
       "    </tr>\n",
       "  </thead>\n",
       "  <tbody>\n",
       "    <tr>\n",
       "      <th>0</th>\n",
       "      <td>신영통현대타운.두산위브</td>\n",
       "      <td>1564</td>\n",
       "    </tr>\n",
       "    <tr>\n",
       "      <th>1</th>\n",
       "      <td>반월리큰고개</td>\n",
       "      <td>996</td>\n",
       "    </tr>\n",
       "    <tr>\n",
       "      <th>2</th>\n",
       "      <td>신창미션힐.송화초교</td>\n",
       "      <td>857</td>\n",
       "    </tr>\n",
       "    <tr>\n",
       "      <th>3</th>\n",
       "      <td>다은마을(중)</td>\n",
       "      <td>813</td>\n",
       "    </tr>\n",
       "    <tr>\n",
       "      <th>4</th>\n",
       "      <td>와우2리</td>\n",
       "      <td>792</td>\n",
       "    </tr>\n",
       "  </tbody>\n",
       "</table>\n",
       "</div>"
      ],
      "text/plain": [
       "          정류장이름    횟수\n",
       "0  신영통현대타운.두산위브  1564\n",
       "1        반월리큰고개   996\n",
       "2    신창미션힐.송화초교   857\n",
       "3       다은마을(중)   813\n",
       "4          와우2리   792"
      ]
     },
     "execution_count": 40,
     "metadata": {},
     "output_type": "execute_result"
    }
   ],
   "source": [
    "df_79_on_count = Counter(df_79_on['정류장이름'])\n",
    "mc_79_on = df_79_on_count.most_common(50)\n",
    "df_mc_79_on = pd.DataFrame(mc_79_on)\n",
    "df_mc_79_on.columns = ['정류장이름','횟수']\n",
    "df_mc_79_on.head()"
   ]
  },
  {
   "cell_type": "code",
   "execution_count": 41,
   "metadata": {},
   "outputs": [],
   "source": [
    "point_79_on = pd.merge(df_79_on[['이비카드정류장ID','정류장이름','위도','경도']], df_mc_79_on, on = '정류장이름', how = 'outer')"
   ]
  },
  {
   "cell_type": "code",
   "execution_count": 75,
   "metadata": {},
   "outputs": [],
   "source": [
    "point_79_on = point_79_on.drop_duplicates(['정류장이름'], keep = 'last')\n",
    "point_79_on = point_79_on.dropna()"
   ]
  },
  {
   "cell_type": "code",
   "execution_count": 77,
   "metadata": {},
   "outputs": [
    {
     "data": {
      "text/html": [
       "<div>\n",
       "<style scoped>\n",
       "    .dataframe tbody tr th:only-of-type {\n",
       "        vertical-align: middle;\n",
       "    }\n",
       "\n",
       "    .dataframe tbody tr th {\n",
       "        vertical-align: top;\n",
       "    }\n",
       "\n",
       "    .dataframe thead th {\n",
       "        text-align: right;\n",
       "    }\n",
       "</style>\n",
       "<table border=\"1\" class=\"dataframe\">\n",
       "  <thead>\n",
       "    <tr style=\"text-align: right;\">\n",
       "      <th></th>\n",
       "      <th>이비카드정류장ID</th>\n",
       "      <th>정류장이름</th>\n",
       "      <th>위도</th>\n",
       "      <th>경도</th>\n",
       "      <th>횟수</th>\n",
       "    </tr>\n",
       "  </thead>\n",
       "  <tbody>\n",
       "    <tr>\n",
       "      <th>17935</th>\n",
       "      <td>4108037.0</td>\n",
       "      <td>신영통현대타운.두산위브</td>\n",
       "      <td>37.235333</td>\n",
       "      <td>127.062100</td>\n",
       "      <td>1564.0</td>\n",
       "    </tr>\n",
       "    <tr>\n",
       "      <th>6926</th>\n",
       "      <td>4108035.0</td>\n",
       "      <td>반월리큰고개</td>\n",
       "      <td>37.232550</td>\n",
       "      <td>127.064783</td>\n",
       "      <td>996.0</td>\n",
       "    </tr>\n",
       "    <tr>\n",
       "      <th>4346</th>\n",
       "      <td>4100048.0</td>\n",
       "      <td>신창미션힐.송화초교</td>\n",
       "      <td>37.203300</td>\n",
       "      <td>127.038550</td>\n",
       "      <td>857.0</td>\n",
       "    </tr>\n",
       "    <tr>\n",
       "      <th>9735</th>\n",
       "      <td>4195716.0</td>\n",
       "      <td>다은마을(중)</td>\n",
       "      <td>37.200417</td>\n",
       "      <td>127.067300</td>\n",
       "      <td>813.0</td>\n",
       "    </tr>\n",
       "    <tr>\n",
       "      <th>14550</th>\n",
       "      <td>4116673.0</td>\n",
       "      <td>와우2리</td>\n",
       "      <td>37.215900</td>\n",
       "      <td>126.976183</td>\n",
       "      <td>792.0</td>\n",
       "    </tr>\n",
       "  </tbody>\n",
       "</table>\n",
       "</div>"
      ],
      "text/plain": [
       "       이비카드정류장ID         정류장이름         위도          경도      횟수\n",
       "17935  4108037.0  신영통현대타운.두산위브  37.235333  127.062100  1564.0\n",
       "6926   4108035.0        반월리큰고개  37.232550  127.064783   996.0\n",
       "4346   4100048.0    신창미션힐.송화초교  37.203300  127.038550   857.0\n",
       "9735   4195716.0       다은마을(중)  37.200417  127.067300   813.0\n",
       "14550  4116673.0          와우2리  37.215900  126.976183   792.0"
      ]
     },
     "execution_count": 77,
     "metadata": {},
     "output_type": "execute_result"
    }
   ],
   "source": [
    "point_79_on.sort_values(['횟수'], ascending=[False]).head()"
   ]
  },
  {
   "cell_type": "code",
   "execution_count": 57,
   "metadata": {},
   "outputs": [],
   "source": [
    "df_79_off_count = Counter(df_79_off['정류장이름'])\n",
    "mc_79_off = df_79_off_count.most_common(50)\n",
    "df_mc_79_off = pd.DataFrame(mc_79_off)\n",
    "df_mc_79_off.columns = ['정류장이름','횟수']"
   ]
  },
  {
   "cell_type": "code",
   "execution_count": 45,
   "metadata": {},
   "outputs": [],
   "source": [
    "point_79_off = pd.merge(df_79_off[['이비카드정류장ID','정류장이름','위도','경도']], df_mc_79_off, on = '정류장이름', how = 'outer')"
   ]
  },
  {
   "cell_type": "code",
   "execution_count": 69,
   "metadata": {},
   "outputs": [],
   "source": [
    "point_79_off = point_79_off.drop_duplicates(['정류장이름'], keep = 'last')\n",
    "point_79_off = point_79_off.dropna()"
   ]
  },
  {
   "cell_type": "code",
   "execution_count": 71,
   "metadata": {},
   "outputs": [
    {
     "data": {
      "text/html": [
       "<div>\n",
       "<style scoped>\n",
       "    .dataframe tbody tr th:only-of-type {\n",
       "        vertical-align: middle;\n",
       "    }\n",
       "\n",
       "    .dataframe tbody tr th {\n",
       "        vertical-align: top;\n",
       "    }\n",
       "\n",
       "    .dataframe thead th {\n",
       "        text-align: right;\n",
       "    }\n",
       "</style>\n",
       "<table border=\"1\" class=\"dataframe\">\n",
       "  <thead>\n",
       "    <tr style=\"text-align: right;\">\n",
       "      <th></th>\n",
       "      <th>이비카드정류장ID</th>\n",
       "      <th>정류장이름</th>\n",
       "      <th>위도</th>\n",
       "      <th>경도</th>\n",
       "      <th>횟수</th>\n",
       "    </tr>\n",
       "  </thead>\n",
       "  <tbody>\n",
       "    <tr>\n",
       "      <th>20044</th>\n",
       "      <td>4197592.0</td>\n",
       "      <td>IT단지(중)</td>\n",
       "      <td>37.224717</td>\n",
       "      <td>127.074183</td>\n",
       "      <td>2387.0</td>\n",
       "    </tr>\n",
       "    <tr>\n",
       "      <th>13639</th>\n",
       "      <td>4105628.0</td>\n",
       "      <td>삼성반도체후문</td>\n",
       "      <td>37.220933</td>\n",
       "      <td>127.075783</td>\n",
       "      <td>1618.0</td>\n",
       "    </tr>\n",
       "    <tr>\n",
       "      <th>11050</th>\n",
       "      <td>4199455.0</td>\n",
       "      <td>한림대병원(중)</td>\n",
       "      <td>37.216633</td>\n",
       "      <td>127.078117</td>\n",
       "      <td>1375.0</td>\n",
       "    </tr>\n",
       "    <tr>\n",
       "      <th>1744</th>\n",
       "      <td>4117226.0</td>\n",
       "      <td>수원대학교</td>\n",
       "      <td>37.213750</td>\n",
       "      <td>126.979967</td>\n",
       "      <td>964.0</td>\n",
       "    </tr>\n",
       "    <tr>\n",
       "      <th>14877</th>\n",
       "      <td>4170973.0</td>\n",
       "      <td>메타폴리스(중)</td>\n",
       "      <td>37.203700</td>\n",
       "      <td>127.067500</td>\n",
       "      <td>637.0</td>\n",
       "    </tr>\n",
       "  </tbody>\n",
       "</table>\n",
       "</div>"
      ],
      "text/plain": [
       "       이비카드정류장ID     정류장이름         위도          경도      횟수\n",
       "20044  4197592.0   IT단지(중)  37.224717  127.074183  2387.0\n",
       "13639  4105628.0   삼성반도체후문  37.220933  127.075783  1618.0\n",
       "11050  4199455.0  한림대병원(중)  37.216633  127.078117  1375.0\n",
       "1744   4117226.0     수원대학교  37.213750  126.979967   964.0\n",
       "14877  4170973.0  메타폴리스(중)  37.203700  127.067500   637.0"
      ]
     },
     "execution_count": 71,
     "metadata": {},
     "output_type": "execute_result"
    }
   ],
   "source": [
    "point_79_off.sort_values(['횟수'], ascending=[False]).head()"
   ]
  },
  {
   "cell_type": "code",
   "execution_count": 48,
   "metadata": {},
   "outputs": [],
   "source": [
    "df_1820_on_count = Counter(df_1820_on['정류장이름'])\n",
    "mc_1820_on = df_1820_on_count.most_common(50)\n",
    "df_mc_1820_on = pd.DataFrame(mc_1820_on)\n",
    "df_mc_1820_on.columns = ['정류장이름','횟수']\n",
    "point_1820_on = pd.merge(df_1820_on[['이비카드정류장ID','정류장이름','위도','경도']], df_mc_1820_on, on = '정류장이름', how = 'outer')"
   ]
  },
  {
   "cell_type": "code",
   "execution_count": 67,
   "metadata": {},
   "outputs": [],
   "source": [
    "point_1820_on = point_1820_on.drop_duplicates(['정류장이름'], keep = 'last')\n",
    "point_1820_on = point_1820_on.dropna()"
   ]
  },
  {
   "cell_type": "code",
   "execution_count": 73,
   "metadata": {},
   "outputs": [
    {
     "data": {
      "text/html": [
       "<div>\n",
       "<style scoped>\n",
       "    .dataframe tbody tr th:only-of-type {\n",
       "        vertical-align: middle;\n",
       "    }\n",
       "\n",
       "    .dataframe tbody tr th {\n",
       "        vertical-align: top;\n",
       "    }\n",
       "\n",
       "    .dataframe thead th {\n",
       "        text-align: right;\n",
       "    }\n",
       "</style>\n",
       "<table border=\"1\" class=\"dataframe\">\n",
       "  <thead>\n",
       "    <tr style=\"text-align: right;\">\n",
       "      <th></th>\n",
       "      <th>이비카드정류장ID</th>\n",
       "      <th>정류장이름</th>\n",
       "      <th>위도</th>\n",
       "      <th>경도</th>\n",
       "      <th>횟수</th>\n",
       "    </tr>\n",
       "  </thead>\n",
       "  <tbody>\n",
       "    <tr>\n",
       "      <th>15041</th>\n",
       "      <td>4130123.0</td>\n",
       "      <td>삼성반도체후문</td>\n",
       "      <td>37.227667</td>\n",
       "      <td>127.070683</td>\n",
       "      <td>1604.0</td>\n",
       "    </tr>\n",
       "    <tr>\n",
       "      <th>3531</th>\n",
       "      <td>4197593.0</td>\n",
       "      <td>IT단지(중)</td>\n",
       "      <td>37.225267</td>\n",
       "      <td>127.073483</td>\n",
       "      <td>1503.0</td>\n",
       "    </tr>\n",
       "    <tr>\n",
       "      <th>11543</th>\n",
       "      <td>4170977.0</td>\n",
       "      <td>한림대병원(중)</td>\n",
       "      <td>37.217317</td>\n",
       "      <td>127.077750</td>\n",
       "      <td>1215.0</td>\n",
       "    </tr>\n",
       "    <tr>\n",
       "      <th>20966</th>\n",
       "      <td>4117227.0</td>\n",
       "      <td>수원대학교</td>\n",
       "      <td>37.213750</td>\n",
       "      <td>126.980150</td>\n",
       "      <td>1031.0</td>\n",
       "    </tr>\n",
       "    <tr>\n",
       "      <th>4882</th>\n",
       "      <td>4170973.0</td>\n",
       "      <td>메타폴리스(중)</td>\n",
       "      <td>37.203700</td>\n",
       "      <td>127.067500</td>\n",
       "      <td>880.0</td>\n",
       "    </tr>\n",
       "  </tbody>\n",
       "</table>\n",
       "</div>"
      ],
      "text/plain": [
       "       이비카드정류장ID     정류장이름         위도          경도      횟수\n",
       "15041  4130123.0   삼성반도체후문  37.227667  127.070683  1604.0\n",
       "3531   4197593.0   IT단지(중)  37.225267  127.073483  1503.0\n",
       "11543  4170977.0  한림대병원(중)  37.217317  127.077750  1215.0\n",
       "20966  4117227.0     수원대학교  37.213750  126.980150  1031.0\n",
       "4882   4170973.0  메타폴리스(중)  37.203700  127.067500   880.0"
      ]
     },
     "execution_count": 73,
     "metadata": {},
     "output_type": "execute_result"
    }
   ],
   "source": [
    "point_1820_on.sort_values(['횟수'], ascending=[False]).head()"
   ]
  },
  {
   "cell_type": "code",
   "execution_count": 51,
   "metadata": {},
   "outputs": [],
   "source": [
    "df_1820_off_count = Counter(df_1820_off['정류장이름'])\n",
    "mc_1820_off = df_1820_off_count.most_common(50)\n",
    "df_mc_1820_off = pd.DataFrame(mc_1820_off)\n",
    "df_mc_1820_off.columns = ['정류장이름','횟수']"
   ]
  },
  {
   "cell_type": "code",
   "execution_count": 52,
   "metadata": {},
   "outputs": [],
   "source": [
    "point_1820_off = pd.merge(df_1820_off[['이비카드정류장ID','정류장이름','위도','경도']], df_mc_1820_off, on = '정류장이름', how = 'outer')"
   ]
  },
  {
   "cell_type": "code",
   "execution_count": 63,
   "metadata": {},
   "outputs": [],
   "source": [
    "point_1820_off = point_1820_off.drop_duplicates(['정류장이름'], keep = 'last')\n",
    "point_1820_off = point_1820_off.dropna()"
   ]
  },
  {
   "cell_type": "code",
   "execution_count": 74,
   "metadata": {},
   "outputs": [
    {
     "data": {
      "text/html": [
       "<div>\n",
       "<style scoped>\n",
       "    .dataframe tbody tr th:only-of-type {\n",
       "        vertical-align: middle;\n",
       "    }\n",
       "\n",
       "    .dataframe tbody tr th {\n",
       "        vertical-align: top;\n",
       "    }\n",
       "\n",
       "    .dataframe thead th {\n",
       "        text-align: right;\n",
       "    }\n",
       "</style>\n",
       "<table border=\"1\" class=\"dataframe\">\n",
       "  <thead>\n",
       "    <tr style=\"text-align: right;\">\n",
       "      <th></th>\n",
       "      <th>이비카드정류장ID</th>\n",
       "      <th>정류장이름</th>\n",
       "      <th>위도</th>\n",
       "      <th>경도</th>\n",
       "      <th>횟수</th>\n",
       "    </tr>\n",
       "  </thead>\n",
       "  <tbody>\n",
       "    <tr>\n",
       "      <th>3987</th>\n",
       "      <td>4108036.0</td>\n",
       "      <td>신영통현대타운.두산위브</td>\n",
       "      <td>37.235467</td>\n",
       "      <td>127.062467</td>\n",
       "      <td>1276.0</td>\n",
       "    </tr>\n",
       "    <tr>\n",
       "      <th>7412</th>\n",
       "      <td>4170973.0</td>\n",
       "      <td>메타폴리스(중)</td>\n",
       "      <td>37.203700</td>\n",
       "      <td>127.067500</td>\n",
       "      <td>795.0</td>\n",
       "    </tr>\n",
       "    <tr>\n",
       "      <th>8388</th>\n",
       "      <td>4170243.0</td>\n",
       "      <td>동탄1동행정복지센터</td>\n",
       "      <td>37.206650</td>\n",
       "      <td>127.072567</td>\n",
       "      <td>772.0</td>\n",
       "    </tr>\n",
       "    <tr>\n",
       "      <th>879</th>\n",
       "      <td>4108034.0</td>\n",
       "      <td>반월리큰고개</td>\n",
       "      <td>37.233000</td>\n",
       "      <td>127.064800</td>\n",
       "      <td>763.0</td>\n",
       "    </tr>\n",
       "    <tr>\n",
       "      <th>17270</th>\n",
       "      <td>4199835.0</td>\n",
       "      <td>능동마을입구</td>\n",
       "      <td>37.216850</td>\n",
       "      <td>127.058150</td>\n",
       "      <td>671.0</td>\n",
       "    </tr>\n",
       "  </tbody>\n",
       "</table>\n",
       "</div>"
      ],
      "text/plain": [
       "       이비카드정류장ID         정류장이름         위도          경도      횟수\n",
       "3987   4108036.0  신영통현대타운.두산위브  37.235467  127.062467  1276.0\n",
       "7412   4170973.0      메타폴리스(중)  37.203700  127.067500   795.0\n",
       "8388   4170243.0    동탄1동행정복지센터  37.206650  127.072567   772.0\n",
       "879    4108034.0        반월리큰고개  37.233000  127.064800   763.0\n",
       "17270  4199835.0        능동마을입구  37.216850  127.058150   671.0"
      ]
     },
     "execution_count": 74,
     "metadata": {},
     "output_type": "execute_result"
    }
   ],
   "source": [
    "point_1820_off.sort_values(['횟수'], ascending=[False]).head()"
   ]
  },
  {
   "cell_type": "code",
   "execution_count": 78,
   "metadata": {},
   "outputs": [],
   "source": [
    "point_79_on.to_csv(\"point_79_on.csv\", encoding = 'utf-8')\n",
    "point_79_off.to_csv(\"point_79_off.csv\", encoding = 'utf-8')\n",
    "point_1820_on.to_csv(\"point_1820_on.csv\", encoding = 'utf-8')\n",
    "point_1820_off.to_csv(\"point_1820_off.csv\", encoding = 'utf-8')"
   ]
  }
 ],
 "metadata": {
  "kernelspec": {
   "display_name": "Python 3",
   "language": "python",
   "name": "python3"
  },
  "language_info": {
   "codemirror_mode": {
    "name": "ipython",
    "version": 3
   },
   "file_extension": ".py",
   "mimetype": "text/x-python",
   "name": "python",
   "nbconvert_exporter": "python",
   "pygments_lexer": "ipython3",
   "version": "3.7.6"
  }
 },
 "nbformat": 4,
 "nbformat_minor": 4
}
