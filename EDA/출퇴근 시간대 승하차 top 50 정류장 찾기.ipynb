{
 "cells": [
  {
   "cell_type": "code",
   "execution_count": 52,
   "metadata": {},
   "outputs": [],
   "source": [
    "import pandas as pd"
   ]
  },
  {
   "cell_type": "markdown",
   "metadata": {},
   "source": [
    "17~18년 경기도 버스 정류장에 대한 정보를 불러옵니다. "
   ]
  },
  {
   "cell_type": "code",
   "execution_count": 53,
   "metadata": {},
   "outputs": [
    {
     "data": {
      "text/html": [
       "<div>\n",
       "<style scoped>\n",
       "    .dataframe tbody tr th:only-of-type {\n",
       "        vertical-align: middle;\n",
       "    }\n",
       "\n",
       "    .dataframe tbody tr th {\n",
       "        vertical-align: top;\n",
       "    }\n",
       "\n",
       "    .dataframe thead th {\n",
       "        text-align: right;\n",
       "    }\n",
       "</style>\n",
       "<table border=\"1\" class=\"dataframe\">\n",
       "  <thead>\n",
       "    <tr style=\"text-align: right;\">\n",
       "      <th></th>\n",
       "      <th>표준정류장ID</th>\n",
       "      <th>시군명</th>\n",
       "      <th>정류소명</th>\n",
       "      <th>정류소영문명</th>\n",
       "      <th>정류소번호</th>\n",
       "      <th>중앙차로여부</th>\n",
       "      <th>관할관청</th>\n",
       "      <th>위치</th>\n",
       "      <th>WGS84위도</th>\n",
       "      <th>WGS84경도</th>\n",
       "      <th>모바일정류장ID</th>\n",
       "      <th>이비카드정류장ID</th>\n",
       "    </tr>\n",
       "  </thead>\n",
       "  <tbody>\n",
       "    <tr>\n",
       "      <th>0</th>\n",
       "      <td>228003422</td>\n",
       "      <td>용인시</td>\n",
       "      <td>손골마을회관.국제학교</td>\n",
       "      <td>Songol Community Center,</td>\n",
       "      <td>56443.0</td>\n",
       "      <td>노변정류장</td>\n",
       "      <td>경기도 용인시</td>\n",
       "      <td>NaN</td>\n",
       "      <td>37.342517</td>\n",
       "      <td>127.066817</td>\n",
       "      <td>56443.0</td>\n",
       "      <td>NaN</td>\n",
       "    </tr>\n",
       "    <tr>\n",
       "      <th>1</th>\n",
       "      <td>228003423</td>\n",
       "      <td>용인시</td>\n",
       "      <td>풀잎사랑</td>\n",
       "      <td>Pulipsarang</td>\n",
       "      <td>56444.0</td>\n",
       "      <td>노변정류장</td>\n",
       "      <td>경기도 용인시</td>\n",
       "      <td>NaN</td>\n",
       "      <td>37.341800</td>\n",
       "      <td>127.068983</td>\n",
       "      <td>56444.0</td>\n",
       "      <td>NaN</td>\n",
       "    </tr>\n",
       "    <tr>\n",
       "      <th>2</th>\n",
       "      <td>228003424</td>\n",
       "      <td>용인시</td>\n",
       "      <td>풀잎사랑</td>\n",
       "      <td>Pulipsarang</td>\n",
       "      <td>56445.0</td>\n",
       "      <td>노변정류장</td>\n",
       "      <td>경기도 용인시</td>\n",
       "      <td>NaN</td>\n",
       "      <td>37.341817</td>\n",
       "      <td>127.069083</td>\n",
       "      <td>56445.0</td>\n",
       "      <td>NaN</td>\n",
       "    </tr>\n",
       "    <tr>\n",
       "      <th>3</th>\n",
       "      <td>228003425</td>\n",
       "      <td>용인시</td>\n",
       "      <td>대성공정</td>\n",
       "      <td>Daesung Process</td>\n",
       "      <td>56446.0</td>\n",
       "      <td>노변정류장</td>\n",
       "      <td>경기도 용인시</td>\n",
       "      <td>NaN</td>\n",
       "      <td>37.339350</td>\n",
       "      <td>127.073067</td>\n",
       "      <td>56446.0</td>\n",
       "      <td>NaN</td>\n",
       "    </tr>\n",
       "    <tr>\n",
       "      <th>4</th>\n",
       "      <td>228003426</td>\n",
       "      <td>용인시</td>\n",
       "      <td>대성공정</td>\n",
       "      <td>Daesung Process</td>\n",
       "      <td>56447.0</td>\n",
       "      <td>노변정류장</td>\n",
       "      <td>경기도 용인시</td>\n",
       "      <td>NaN</td>\n",
       "      <td>37.339183</td>\n",
       "      <td>127.073400</td>\n",
       "      <td>56447.0</td>\n",
       "      <td>NaN</td>\n",
       "    </tr>\n",
       "  </tbody>\n",
       "</table>\n",
       "</div>"
      ],
      "text/plain": [
       "     표준정류장ID  시군명         정류소명                     정류소영문명    정류소번호 중앙차로여부  \\\n",
       "0  228003422  용인시  손골마을회관.국제학교  Songol Community Center,   56443.0  노변정류장   \n",
       "1  228003423  용인시         풀잎사랑                Pulipsarang  56444.0  노변정류장   \n",
       "2  228003424  용인시         풀잎사랑                Pulipsarang  56445.0  노변정류장   \n",
       "3  228003425  용인시         대성공정            Daesung Process  56446.0  노변정류장   \n",
       "4  228003426  용인시         대성공정            Daesung Process  56447.0  노변정류장   \n",
       "\n",
       "      관할관청   위치    WGS84위도     WGS84경도 모바일정류장ID  이비카드정류장ID  \n",
       "0  경기도 용인시  NaN  37.342517  127.066817  56443.0        NaN  \n",
       "1  경기도 용인시  NaN  37.341800  127.068983  56444.0        NaN  \n",
       "2  경기도 용인시  NaN  37.341817  127.069083  56445.0        NaN  \n",
       "3  경기도 용인시  NaN  37.339350  127.073067  56446.0        NaN  \n",
       "4  경기도 용인시  NaN  37.339183  127.073400  56447.0        NaN  "
      ]
     },
     "execution_count": 53,
     "metadata": {},
     "output_type": "execute_result"
    }
   ],
   "source": [
    "stations = pd.read_csv(\"stations_table.csv\")\n",
    "stations.head()"
   ]
  },
  {
   "cell_type": "code",
   "execution_count": 54,
   "metadata": {},
   "outputs": [
    {
     "data": {
      "text/plain": [
       "38509"
      ]
     },
     "execution_count": 54,
     "metadata": {},
     "output_type": "execute_result"
    }
   ],
   "source": [
    "len(stations)"
   ]
  },
  {
   "cell_type": "markdown",
   "metadata": {},
   "source": [
    "버스 정류장 정보 중 필요한 column 값만 추려냅니다. "
   ]
  },
  {
   "cell_type": "code",
   "execution_count": 55,
   "metadata": {},
   "outputs": [
    {
     "data": {
      "text/html": [
       "<div>\n",
       "<style scoped>\n",
       "    .dataframe tbody tr th:only-of-type {\n",
       "        vertical-align: middle;\n",
       "    }\n",
       "\n",
       "    .dataframe tbody tr th {\n",
       "        vertical-align: top;\n",
       "    }\n",
       "\n",
       "    .dataframe thead th {\n",
       "        text-align: right;\n",
       "    }\n",
       "</style>\n",
       "<table border=\"1\" class=\"dataframe\">\n",
       "  <thead>\n",
       "    <tr style=\"text-align: right;\">\n",
       "      <th></th>\n",
       "      <th>표준정류장ID</th>\n",
       "      <th>이비카드정류장ID</th>\n",
       "      <th>관할관청</th>\n",
       "      <th>위도</th>\n",
       "      <th>경도</th>\n",
       "    </tr>\n",
       "  </thead>\n",
       "  <tbody>\n",
       "    <tr>\n",
       "      <th>0</th>\n",
       "      <td>228003422</td>\n",
       "      <td>NaN</td>\n",
       "      <td>경기도 용인시</td>\n",
       "      <td>37.342517</td>\n",
       "      <td>127.066817</td>\n",
       "    </tr>\n",
       "    <tr>\n",
       "      <th>1</th>\n",
       "      <td>228003423</td>\n",
       "      <td>NaN</td>\n",
       "      <td>경기도 용인시</td>\n",
       "      <td>37.341800</td>\n",
       "      <td>127.068983</td>\n",
       "    </tr>\n",
       "    <tr>\n",
       "      <th>2</th>\n",
       "      <td>228003424</td>\n",
       "      <td>NaN</td>\n",
       "      <td>경기도 용인시</td>\n",
       "      <td>37.341817</td>\n",
       "      <td>127.069083</td>\n",
       "    </tr>\n",
       "    <tr>\n",
       "      <th>3</th>\n",
       "      <td>228003425</td>\n",
       "      <td>NaN</td>\n",
       "      <td>경기도 용인시</td>\n",
       "      <td>37.339350</td>\n",
       "      <td>127.073067</td>\n",
       "    </tr>\n",
       "    <tr>\n",
       "      <th>4</th>\n",
       "      <td>228003426</td>\n",
       "      <td>NaN</td>\n",
       "      <td>경기도 용인시</td>\n",
       "      <td>37.339183</td>\n",
       "      <td>127.073400</td>\n",
       "    </tr>\n",
       "  </tbody>\n",
       "</table>\n",
       "</div>"
      ],
      "text/plain": [
       "     표준정류장ID  이비카드정류장ID     관할관청         위도          경도\n",
       "0  228003422        NaN  경기도 용인시  37.342517  127.066817\n",
       "1  228003423        NaN  경기도 용인시  37.341800  127.068983\n",
       "2  228003424        NaN  경기도 용인시  37.341817  127.069083\n",
       "3  228003425        NaN  경기도 용인시  37.339350  127.073067\n",
       "4  228003426        NaN  경기도 용인시  37.339183  127.073400"
      ]
     },
     "execution_count": 55,
     "metadata": {},
     "output_type": "execute_result"
    }
   ],
   "source": [
    "stations = stations[['표준정류장ID','이비카드정류장ID','관할관청','WGS84위도','WGS84경도']]\n",
    "stations.columns = ['표준정류장ID', '이비카드정류장ID', '관할관청','위도','경도']\n",
    "stations.head()"
   ]
  },
  {
   "cell_type": "markdown",
   "metadata": {},
   "source": [
    "결측치를 확인하고 제거합니다. "
   ]
  },
  {
   "cell_type": "code",
   "execution_count": 56,
   "metadata": {},
   "outputs": [
    {
     "data": {
      "text/plain": [
       "0"
      ]
     },
     "execution_count": 56,
     "metadata": {},
     "output_type": "execute_result"
    }
   ],
   "source": [
    "stations['표준정류장ID'].isna().sum()"
   ]
  },
  {
   "cell_type": "code",
   "execution_count": 57,
   "metadata": {},
   "outputs": [
    {
     "data": {
      "text/plain": [
       "12542"
      ]
     },
     "execution_count": 57,
     "metadata": {},
     "output_type": "execute_result"
    }
   ],
   "source": [
    "stations['이비카드정류장ID'].isna().sum()"
   ]
  },
  {
   "cell_type": "code",
   "execution_count": 58,
   "metadata": {},
   "outputs": [
    {
     "data": {
      "text/plain": [
       "25967"
      ]
     },
     "execution_count": 58,
     "metadata": {},
     "output_type": "execute_result"
    }
   ],
   "source": [
    "stations.dropna(subset=[\"이비카드정류장ID\"],inplace = True)\n",
    "len(stations)"
   ]
  },
  {
   "cell_type": "markdown",
   "metadata": {},
   "source": [
    "17~18년 기준 경기도 버스정류장에 대한 정보와 버스노선-정류장 매핑 테이블 정보를 결합한 파일을 불러옵니다."
   ]
  },
  {
   "cell_type": "code",
   "execution_count": 59,
   "metadata": {},
   "outputs": [
    {
     "data": {
      "text/html": [
       "<div>\n",
       "<style scoped>\n",
       "    .dataframe tbody tr th:only-of-type {\n",
       "        vertical-align: middle;\n",
       "    }\n",
       "\n",
       "    .dataframe tbody tr th {\n",
       "        vertical-align: top;\n",
       "    }\n",
       "\n",
       "    .dataframe thead th {\n",
       "        text-align: right;\n",
       "    }\n",
       "</style>\n",
       "<table border=\"1\" class=\"dataframe\">\n",
       "  <thead>\n",
       "    <tr style=\"text-align: right;\">\n",
       "      <th></th>\n",
       "      <th>seq</th>\n",
       "      <th>pr_station_id</th>\n",
       "      <th>bus_line_no</th>\n",
       "      <th>bus_line_no_seq</th>\n",
       "      <th>station_nm</th>\n",
       "      <th>station_id</th>\n",
       "      <th>mobile_no</th>\n",
       "    </tr>\n",
       "  </thead>\n",
       "  <tbody>\n",
       "    <tr>\n",
       "      <th>0</th>\n",
       "      <td>65286</td>\n",
       "      <td>228000018</td>\n",
       "      <td>10-4</td>\n",
       "      <td>1</td>\n",
       "      <td>용인터미널</td>\n",
       "      <td>228001552</td>\n",
       "      <td>47634.0</td>\n",
       "    </tr>\n",
       "    <tr>\n",
       "      <th>1</th>\n",
       "      <td>65287</td>\n",
       "      <td>228000018</td>\n",
       "      <td>10-4</td>\n",
       "      <td>2</td>\n",
       "      <td>용인터미널(경유)</td>\n",
       "      <td>277102443</td>\n",
       "      <td>NaN</td>\n",
       "    </tr>\n",
       "    <tr>\n",
       "      <th>2</th>\n",
       "      <td>65288</td>\n",
       "      <td>228000018</td>\n",
       "      <td>10-4</td>\n",
       "      <td>3</td>\n",
       "      <td>포브스병원</td>\n",
       "      <td>228000443</td>\n",
       "      <td>29439.0</td>\n",
       "    </tr>\n",
       "    <tr>\n",
       "      <th>3</th>\n",
       "      <td>65289</td>\n",
       "      <td>228000018</td>\n",
       "      <td>10-4</td>\n",
       "      <td>4</td>\n",
       "      <td>제일교회</td>\n",
       "      <td>228000665</td>\n",
       "      <td>29881.0</td>\n",
       "    </tr>\n",
       "    <tr>\n",
       "      <th>4</th>\n",
       "      <td>65290</td>\n",
       "      <td>228000018</td>\n",
       "      <td>10-4</td>\n",
       "      <td>5</td>\n",
       "      <td>라이프아파트</td>\n",
       "      <td>228000664</td>\n",
       "      <td>29457.0</td>\n",
       "    </tr>\n",
       "  </tbody>\n",
       "</table>\n",
       "</div>"
      ],
      "text/plain": [
       "     seq  pr_station_id bus_line_no  bus_line_no_seq station_nm  station_id  \\\n",
       "0  65286      228000018        10-4                1      용인터미널   228001552   \n",
       "1  65287      228000018        10-4                2  용인터미널(경유)   277102443   \n",
       "2  65288      228000018        10-4                3      포브스병원   228000443   \n",
       "3  65289      228000018        10-4                4       제일교회   228000665   \n",
       "4  65290      228000018        10-4                5     라이프아파트   228000664   \n",
       "\n",
       "   mobile_no  \n",
       "0    47634.0  \n",
       "1        NaN  \n",
       "2    29439.0  \n",
       "3    29881.0  \n",
       "4    29457.0  "
      ]
     },
     "execution_count": 59,
     "metadata": {},
     "output_type": "execute_result"
    }
   ],
   "source": [
    "combined = pd.read_csv(\"routestationinfo.csv\")\n",
    "combined.drop(combined.columns[0],axis=1)\n",
    "combined.head()"
   ]
  },
  {
   "cell_type": "markdown",
   "metadata": {},
   "source": [
    "필요한 column만 선택하여 column명을 바꿔줍니다. "
   ]
  },
  {
   "cell_type": "code",
   "execution_count": 60,
   "metadata": {},
   "outputs": [
    {
     "data": {
      "text/html": [
       "<div>\n",
       "<style scoped>\n",
       "    .dataframe tbody tr th:only-of-type {\n",
       "        vertical-align: middle;\n",
       "    }\n",
       "\n",
       "    .dataframe tbody tr th {\n",
       "        vertical-align: top;\n",
       "    }\n",
       "\n",
       "    .dataframe thead th {\n",
       "        text-align: right;\n",
       "    }\n",
       "</style>\n",
       "<table border=\"1\" class=\"dataframe\">\n",
       "  <thead>\n",
       "    <tr style=\"text-align: right;\">\n",
       "      <th></th>\n",
       "      <th>노선번호</th>\n",
       "      <th>정류장이름</th>\n",
       "      <th>표준정류장ID</th>\n",
       "    </tr>\n",
       "  </thead>\n",
       "  <tbody>\n",
       "    <tr>\n",
       "      <th>0</th>\n",
       "      <td>10-4</td>\n",
       "      <td>용인터미널</td>\n",
       "      <td>228001552</td>\n",
       "    </tr>\n",
       "    <tr>\n",
       "      <th>1</th>\n",
       "      <td>10-4</td>\n",
       "      <td>용인터미널(경유)</td>\n",
       "      <td>277102443</td>\n",
       "    </tr>\n",
       "    <tr>\n",
       "      <th>2</th>\n",
       "      <td>10-4</td>\n",
       "      <td>포브스병원</td>\n",
       "      <td>228000443</td>\n",
       "    </tr>\n",
       "    <tr>\n",
       "      <th>3</th>\n",
       "      <td>10-4</td>\n",
       "      <td>제일교회</td>\n",
       "      <td>228000665</td>\n",
       "    </tr>\n",
       "    <tr>\n",
       "      <th>4</th>\n",
       "      <td>10-4</td>\n",
       "      <td>라이프아파트</td>\n",
       "      <td>228000664</td>\n",
       "    </tr>\n",
       "  </tbody>\n",
       "</table>\n",
       "</div>"
      ],
      "text/plain": [
       "   노선번호      정류장이름    표준정류장ID\n",
       "0  10-4      용인터미널  228001552\n",
       "1  10-4  용인터미널(경유)  277102443\n",
       "2  10-4      포브스병원  228000443\n",
       "3  10-4       제일교회  228000665\n",
       "4  10-4     라이프아파트  228000664"
      ]
     },
     "execution_count": 60,
     "metadata": {},
     "output_type": "execute_result"
    }
   ],
   "source": [
    "combined = combined[['bus_line_no', 'station_nm', 'station_id']]\n",
    "combined.columns = ['노선번호', '정류장이름', '표준정류장ID']\n",
    "combined.head()"
   ]
  },
  {
   "cell_type": "markdown",
   "metadata": {},
   "source": [
    "위와 동일하게 결측치를 확인합니다. "
   ]
  },
  {
   "cell_type": "code",
   "execution_count": 61,
   "metadata": {},
   "outputs": [
    {
     "data": {
      "text/plain": [
       "0"
      ]
     },
     "execution_count": 61,
     "metadata": {},
     "output_type": "execute_result"
    }
   ],
   "source": [
    "combined['표준정류장ID'].isna().sum()"
   ]
  },
  {
   "cell_type": "markdown",
   "metadata": {},
   "source": [
    "이제 combined 데이터와 stations 데이터를 표준정류장ID를 key값으로 결합합니다. "
   ]
  },
  {
   "cell_type": "code",
   "execution_count": 62,
   "metadata": {},
   "outputs": [
    {
     "data": {
      "text/html": [
       "<div>\n",
       "<style scoped>\n",
       "    .dataframe tbody tr th:only-of-type {\n",
       "        vertical-align: middle;\n",
       "    }\n",
       "\n",
       "    .dataframe tbody tr th {\n",
       "        vertical-align: top;\n",
       "    }\n",
       "\n",
       "    .dataframe thead th {\n",
       "        text-align: right;\n",
       "    }\n",
       "</style>\n",
       "<table border=\"1\" class=\"dataframe\">\n",
       "  <thead>\n",
       "    <tr style=\"text-align: right;\">\n",
       "      <th></th>\n",
       "      <th>노선번호</th>\n",
       "      <th>정류장이름</th>\n",
       "      <th>표준정류장ID</th>\n",
       "      <th>이비카드정류장ID</th>\n",
       "      <th>관할관청</th>\n",
       "      <th>위도</th>\n",
       "      <th>경도</th>\n",
       "    </tr>\n",
       "  </thead>\n",
       "  <tbody>\n",
       "    <tr>\n",
       "      <th>0</th>\n",
       "      <td>10-4</td>\n",
       "      <td>용인터미널</td>\n",
       "      <td>228001552</td>\n",
       "      <td>4176783.0</td>\n",
       "      <td>경기도 용인시</td>\n",
       "      <td>37.232783</td>\n",
       "      <td>127.2101</td>\n",
       "    </tr>\n",
       "    <tr>\n",
       "      <th>1</th>\n",
       "      <td>10-4</td>\n",
       "      <td>용인터미널</td>\n",
       "      <td>228001552</td>\n",
       "      <td>9176783.0</td>\n",
       "      <td>경기도 용인시</td>\n",
       "      <td>37.232783</td>\n",
       "      <td>127.2101</td>\n",
       "    </tr>\n",
       "    <tr>\n",
       "      <th>2</th>\n",
       "      <td>7</td>\n",
       "      <td>용인터미널</td>\n",
       "      <td>228001552</td>\n",
       "      <td>4176783.0</td>\n",
       "      <td>경기도 용인시</td>\n",
       "      <td>37.232783</td>\n",
       "      <td>127.2101</td>\n",
       "    </tr>\n",
       "    <tr>\n",
       "      <th>3</th>\n",
       "      <td>7</td>\n",
       "      <td>용인터미널</td>\n",
       "      <td>228001552</td>\n",
       "      <td>9176783.0</td>\n",
       "      <td>경기도 용인시</td>\n",
       "      <td>37.232783</td>\n",
       "      <td>127.2101</td>\n",
       "    </tr>\n",
       "    <tr>\n",
       "      <th>4</th>\n",
       "      <td>8</td>\n",
       "      <td>용인터미널</td>\n",
       "      <td>228001552</td>\n",
       "      <td>4176783.0</td>\n",
       "      <td>경기도 용인시</td>\n",
       "      <td>37.232783</td>\n",
       "      <td>127.2101</td>\n",
       "    </tr>\n",
       "  </tbody>\n",
       "</table>\n",
       "</div>"
      ],
      "text/plain": [
       "   노선번호  정류장이름    표준정류장ID  이비카드정류장ID     관할관청         위도        경도\n",
       "0  10-4  용인터미널  228001552  4176783.0  경기도 용인시  37.232783  127.2101\n",
       "1  10-4  용인터미널  228001552  9176783.0  경기도 용인시  37.232783  127.2101\n",
       "2     7  용인터미널  228001552  4176783.0  경기도 용인시  37.232783  127.2101\n",
       "3     7  용인터미널  228001552  9176783.0  경기도 용인시  37.232783  127.2101\n",
       "4     8  용인터미널  228001552  4176783.0  경기도 용인시  37.232783  127.2101"
      ]
     },
     "execution_count": 62,
     "metadata": {},
     "output_type": "execute_result"
    }
   ],
   "source": [
    "re_combined = pd.merge(combined, stations, on = \"표준정류장ID\")\n",
    "re_combined.head()"
   ]
  },
  {
   "cell_type": "markdown",
   "metadata": {},
   "source": [
    "결합한 데이터에서 관할관청이 화성시인 데이터만을 추출합니다. "
   ]
  },
  {
   "cell_type": "code",
   "execution_count": 63,
   "metadata": {},
   "outputs": [
    {
     "data": {
      "text/html": [
       "<div>\n",
       "<style scoped>\n",
       "    .dataframe tbody tr th:only-of-type {\n",
       "        vertical-align: middle;\n",
       "    }\n",
       "\n",
       "    .dataframe tbody tr th {\n",
       "        vertical-align: top;\n",
       "    }\n",
       "\n",
       "    .dataframe thead th {\n",
       "        text-align: right;\n",
       "    }\n",
       "</style>\n",
       "<table border=\"1\" class=\"dataframe\">\n",
       "  <thead>\n",
       "    <tr style=\"text-align: right;\">\n",
       "      <th></th>\n",
       "      <th>노선번호</th>\n",
       "      <th>정류장이름</th>\n",
       "      <th>표준정류장ID</th>\n",
       "      <th>이비카드정류장ID</th>\n",
       "      <th>관할관청</th>\n",
       "      <th>위도</th>\n",
       "      <th>경도</th>\n",
       "    </tr>\n",
       "  </thead>\n",
       "  <tbody>\n",
       "    <tr>\n",
       "      <th>1522</th>\n",
       "      <td>24</td>\n",
       "      <td>한원IC</td>\n",
       "      <td>233000169</td>\n",
       "      <td>4170725.0</td>\n",
       "      <td>경기도 화성시</td>\n",
       "      <td>37.152733</td>\n",
       "      <td>127.122883</td>\n",
       "    </tr>\n",
       "    <tr>\n",
       "      <th>1523</th>\n",
       "      <td>24</td>\n",
       "      <td>장지동</td>\n",
       "      <td>233000168</td>\n",
       "      <td>4170397.0</td>\n",
       "      <td>경기도 화성시</td>\n",
       "      <td>37.155117</td>\n",
       "      <td>127.117900</td>\n",
       "    </tr>\n",
       "    <tr>\n",
       "      <th>1524</th>\n",
       "      <td>19-2</td>\n",
       "      <td>장지동</td>\n",
       "      <td>233000168</td>\n",
       "      <td>4170397.0</td>\n",
       "      <td>경기도 화성시</td>\n",
       "      <td>37.155117</td>\n",
       "      <td>127.117900</td>\n",
       "    </tr>\n",
       "    <tr>\n",
       "      <th>1525</th>\n",
       "      <td>39</td>\n",
       "      <td>장지동</td>\n",
       "      <td>233000168</td>\n",
       "      <td>4170397.0</td>\n",
       "      <td>경기도 화성시</td>\n",
       "      <td>37.155117</td>\n",
       "      <td>127.117900</td>\n",
       "    </tr>\n",
       "    <tr>\n",
       "      <th>1526</th>\n",
       "      <td>24</td>\n",
       "      <td>장지동</td>\n",
       "      <td>233000167</td>\n",
       "      <td>4170396.0</td>\n",
       "      <td>경기도 화성시</td>\n",
       "      <td>37.155867</td>\n",
       "      <td>127.115017</td>\n",
       "    </tr>\n",
       "  </tbody>\n",
       "</table>\n",
       "</div>"
      ],
      "text/plain": [
       "      노선번호 정류장이름    표준정류장ID  이비카드정류장ID     관할관청         위도          경도\n",
       "1522    24  한원IC  233000169  4170725.0  경기도 화성시  37.152733  127.122883\n",
       "1523    24   장지동  233000168  4170397.0  경기도 화성시  37.155117  127.117900\n",
       "1524  19-2   장지동  233000168  4170397.0  경기도 화성시  37.155117  127.117900\n",
       "1525    39   장지동  233000168  4170397.0  경기도 화성시  37.155117  127.117900\n",
       "1526    24   장지동  233000167  4170396.0  경기도 화성시  37.155867  127.115017"
      ]
     },
     "execution_count": 63,
     "metadata": {},
     "output_type": "execute_result"
    }
   ],
   "source": [
    "re_combined = re_combined[re_combined['관할관청'] == '경기도 화성시']\n",
    "re_combined.head()"
   ]
  },
  {
   "cell_type": "code",
   "execution_count": 64,
   "metadata": {},
   "outputs": [
    {
     "data": {
      "text/plain": [
       "7754"
      ]
     },
     "execution_count": 64,
     "metadata": {},
     "output_type": "execute_result"
    }
   ],
   "source": [
    "len(re_combined)"
   ]
  },
  {
   "cell_type": "markdown",
   "metadata": {},
   "source": [
    "한 정류장에 여러 노선이 지나기 때문에, 정류장 정보만 얻기 위해 노선번호 열을 삭제하고, 중복값을 제거합니다. "
   ]
  },
  {
   "cell_type": "code",
   "execution_count": 65,
   "metadata": {},
   "outputs": [
    {
     "data": {
      "text/html": [
       "<div>\n",
       "<style scoped>\n",
       "    .dataframe tbody tr th:only-of-type {\n",
       "        vertical-align: middle;\n",
       "    }\n",
       "\n",
       "    .dataframe tbody tr th {\n",
       "        vertical-align: top;\n",
       "    }\n",
       "\n",
       "    .dataframe thead th {\n",
       "        text-align: right;\n",
       "    }\n",
       "</style>\n",
       "<table border=\"1\" class=\"dataframe\">\n",
       "  <thead>\n",
       "    <tr style=\"text-align: right;\">\n",
       "      <th></th>\n",
       "      <th>정류장이름</th>\n",
       "      <th>표준정류장ID</th>\n",
       "      <th>이비카드정류장ID</th>\n",
       "      <th>관할관청</th>\n",
       "      <th>위도</th>\n",
       "      <th>경도</th>\n",
       "    </tr>\n",
       "  </thead>\n",
       "  <tbody>\n",
       "    <tr>\n",
       "      <th>1522</th>\n",
       "      <td>한원IC</td>\n",
       "      <td>233000169</td>\n",
       "      <td>4170725.0</td>\n",
       "      <td>경기도 화성시</td>\n",
       "      <td>37.152733</td>\n",
       "      <td>127.122883</td>\n",
       "    </tr>\n",
       "    <tr>\n",
       "      <th>1523</th>\n",
       "      <td>장지동</td>\n",
       "      <td>233000168</td>\n",
       "      <td>4170397.0</td>\n",
       "      <td>경기도 화성시</td>\n",
       "      <td>37.155117</td>\n",
       "      <td>127.117900</td>\n",
       "    </tr>\n",
       "    <tr>\n",
       "      <th>1526</th>\n",
       "      <td>장지동</td>\n",
       "      <td>233000167</td>\n",
       "      <td>4170396.0</td>\n",
       "      <td>경기도 화성시</td>\n",
       "      <td>37.155867</td>\n",
       "      <td>127.115017</td>\n",
       "    </tr>\n",
       "    <tr>\n",
       "      <th>1529</th>\n",
       "      <td>꽃가마약수터</td>\n",
       "      <td>233000166</td>\n",
       "      <td>4170395.0</td>\n",
       "      <td>경기도 화성시</td>\n",
       "      <td>37.159100</td>\n",
       "      <td>127.099350</td>\n",
       "    </tr>\n",
       "    <tr>\n",
       "      <th>1607</th>\n",
       "      <td>꽃가마약수터</td>\n",
       "      <td>233001323</td>\n",
       "      <td>4170651.0</td>\n",
       "      <td>경기도 화성시</td>\n",
       "      <td>37.158900</td>\n",
       "      <td>127.098750</td>\n",
       "    </tr>\n",
       "  </tbody>\n",
       "</table>\n",
       "</div>"
      ],
      "text/plain": [
       "       정류장이름    표준정류장ID  이비카드정류장ID     관할관청         위도          경도\n",
       "1522    한원IC  233000169  4170725.0  경기도 화성시  37.152733  127.122883\n",
       "1523     장지동  233000168  4170397.0  경기도 화성시  37.155117  127.117900\n",
       "1526     장지동  233000167  4170396.0  경기도 화성시  37.155867  127.115017\n",
       "1529  꽃가마약수터  233000166  4170395.0  경기도 화성시  37.159100  127.099350\n",
       "1607  꽃가마약수터  233001323  4170651.0  경기도 화성시  37.158900  127.098750"
      ]
     },
     "execution_count": 65,
     "metadata": {},
     "output_type": "execute_result"
    }
   ],
   "source": [
    "re_combined = re_combined.drop(re_combined.columns[0], axis = 1)\n",
    "final_combined = re_combined.drop_duplicates()\n",
    "final_combined.head()"
   ]
  },
  {
   "cell_type": "code",
   "execution_count": 66,
   "metadata": {},
   "outputs": [
    {
     "data": {
      "text/plain": [
       "1469"
      ]
     },
     "execution_count": 66,
     "metadata": {},
     "output_type": "execute_result"
    }
   ],
   "source": [
    "len(final_combined)"
   ]
  },
  {
   "cell_type": "markdown",
   "metadata": {},
   "source": [
    "2018년 7월 승차일 기준 1~4일의 버스 카드태깅 정보를 불러옵니다."
   ]
  },
  {
   "cell_type": "code",
   "execution_count": 67,
   "metadata": {},
   "outputs": [
    {
     "data": {
      "text/html": [
       "<div>\n",
       "<style scoped>\n",
       "    .dataframe tbody tr th:only-of-type {\n",
       "        vertical-align: middle;\n",
       "    }\n",
       "\n",
       "    .dataframe tbody tr th {\n",
       "        vertical-align: top;\n",
       "    }\n",
       "\n",
       "    .dataframe thead th {\n",
       "        text-align: right;\n",
       "    }\n",
       "</style>\n",
       "<table border=\"1\" class=\"dataframe\">\n",
       "  <thead>\n",
       "    <tr style=\"text-align: right;\">\n",
       "      <th></th>\n",
       "      <th>암호화카드번호||'</th>\n",
       "      <th>'||트랜잭션ID||'</th>\n",
       "      <th>'||환승횟수||'</th>\n",
       "      <th>'||교통카드발행사ID||'</th>\n",
       "      <th>'||총이용객수||'</th>\n",
       "      <th>'||사용자구분||'</th>\n",
       "      <th>'||교통수단CD1||'</th>\n",
       "      <th>'||교통수단CD2||'</th>\n",
       "      <th>'||교통수단CD3||'</th>\n",
       "      <th>'||교통수단CD4||'</th>\n",
       "      <th>...</th>\n",
       "      <th>'||하차역ID1||'</th>\n",
       "      <th>'||하차역ID2||'</th>\n",
       "      <th>'||하차역ID3||'</th>\n",
       "      <th>'||하차역ID4||'</th>\n",
       "      <th>'||하차역ID5||'</th>\n",
       "      <th>'||최초승차역ID||'</th>\n",
       "      <th>'||최종하차역ID||'</th>\n",
       "      <th>'||총이용금액||'</th>\n",
       "      <th>'||수집건수||'</th>\n",
       "      <th>'||트립체인완료코드</th>\n",
       "    </tr>\n",
       "  </thead>\n",
       "  <tbody>\n",
       "    <tr>\n",
       "      <th>0</th>\n",
       "      <td>900079696430</td>\n",
       "      <td>56</td>\n",
       "      <td>2</td>\n",
       "      <td>9000923</td>\n",
       "      <td>1</td>\n",
       "      <td>1</td>\n",
       "      <td>500.0</td>\n",
       "      <td>500.0</td>\n",
       "      <td>NaN</td>\n",
       "      <td>NaN</td>\n",
       "      <td>...</td>\n",
       "      <td>NaN</td>\n",
       "      <td>NaN</td>\n",
       "      <td>NaN</td>\n",
       "      <td>NaN</td>\n",
       "      <td>NaN</td>\n",
       "      <td>NaN</td>\n",
       "      <td>4116708.0</td>\n",
       "      <td>1350</td>\n",
       "      <td>2</td>\n",
       "      <td>;</td>\n",
       "    </tr>\n",
       "    <tr>\n",
       "      <th>1</th>\n",
       "      <td>900079697651</td>\n",
       "      <td>5</td>\n",
       "      <td>1</td>\n",
       "      <td>9000923</td>\n",
       "      <td>1</td>\n",
       "      <td>1</td>\n",
       "      <td>500.0</td>\n",
       "      <td>NaN</td>\n",
       "      <td>NaN</td>\n",
       "      <td>NaN</td>\n",
       "      <td>...</td>\n",
       "      <td>NaN</td>\n",
       "      <td>NaN</td>\n",
       "      <td>NaN</td>\n",
       "      <td>NaN</td>\n",
       "      <td>NaN</td>\n",
       "      <td>NaN</td>\n",
       "      <td>4117269.0</td>\n",
       "      <td>1250</td>\n",
       "      <td>1</td>\n",
       "      <td>;</td>\n",
       "    </tr>\n",
       "    <tr>\n",
       "      <th>2</th>\n",
       "      <td>900079698254</td>\n",
       "      <td>32</td>\n",
       "      <td>1</td>\n",
       "      <td>9000923</td>\n",
       "      <td>1</td>\n",
       "      <td>1</td>\n",
       "      <td>500.0</td>\n",
       "      <td>NaN</td>\n",
       "      <td>NaN</td>\n",
       "      <td>NaN</td>\n",
       "      <td>...</td>\n",
       "      <td>NaN</td>\n",
       "      <td>NaN</td>\n",
       "      <td>NaN</td>\n",
       "      <td>NaN</td>\n",
       "      <td>NaN</td>\n",
       "      <td>NaN</td>\n",
       "      <td>4107936.0</td>\n",
       "      <td>1550</td>\n",
       "      <td>1</td>\n",
       "      <td>;</td>\n",
       "    </tr>\n",
       "    <tr>\n",
       "      <th>3</th>\n",
       "      <td>900079699257</td>\n",
       "      <td>80</td>\n",
       "      <td>1</td>\n",
       "      <td>9000923</td>\n",
       "      <td>1</td>\n",
       "      <td>1</td>\n",
       "      <td>500.0</td>\n",
       "      <td>NaN</td>\n",
       "      <td>NaN</td>\n",
       "      <td>NaN</td>\n",
       "      <td>...</td>\n",
       "      <td>NaN</td>\n",
       "      <td>NaN</td>\n",
       "      <td>NaN</td>\n",
       "      <td>NaN</td>\n",
       "      <td>NaN</td>\n",
       "      <td>NaN</td>\n",
       "      <td>4116717.0</td>\n",
       "      <td>1250</td>\n",
       "      <td>1</td>\n",
       "      <td>;</td>\n",
       "    </tr>\n",
       "    <tr>\n",
       "      <th>4</th>\n",
       "      <td>900079701419</td>\n",
       "      <td>64</td>\n",
       "      <td>1</td>\n",
       "      <td>9000923</td>\n",
       "      <td>1</td>\n",
       "      <td>1</td>\n",
       "      <td>530.0</td>\n",
       "      <td>NaN</td>\n",
       "      <td>NaN</td>\n",
       "      <td>NaN</td>\n",
       "      <td>...</td>\n",
       "      <td>NaN</td>\n",
       "      <td>NaN</td>\n",
       "      <td>NaN</td>\n",
       "      <td>NaN</td>\n",
       "      <td>NaN</td>\n",
       "      <td>NaN</td>\n",
       "      <td>4116848.0</td>\n",
       "      <td>2050</td>\n",
       "      <td>1</td>\n",
       "      <td>;</td>\n",
       "    </tr>\n",
       "  </tbody>\n",
       "</table>\n",
       "<p>5 rows × 51 columns</p>\n",
       "</div>"
      ],
      "text/plain": [
       "     암호화카드번호||'  '||트랜잭션ID||'  '||환승횟수||'  '||교통카드발행사ID||'  '||총이용객수||'  \\\n",
       "0  900079696430            56           2          9000923            1   \n",
       "1  900079697651             5           1          9000923            1   \n",
       "2  900079698254            32           1          9000923            1   \n",
       "3  900079699257            80           1          9000923            1   \n",
       "4  900079701419            64           1          9000923            1   \n",
       "\n",
       "   '||사용자구분||'  '||교통수단CD1||'  '||교통수단CD2||'  '||교통수단CD3||'  '||교통수단CD4||'  \\\n",
       "0            1          500.0          500.0            NaN            NaN   \n",
       "1            1          500.0            NaN            NaN            NaN   \n",
       "2            1          500.0            NaN            NaN            NaN   \n",
       "3            1          500.0            NaN            NaN            NaN   \n",
       "4            1          530.0            NaN            NaN            NaN   \n",
       "\n",
       "   ...  '||하차역ID1||'  '||하차역ID2||'  '||하차역ID3||'  '||하차역ID4||'  '||하차역ID5||'  \\\n",
       "0  ...           NaN           NaN           NaN           NaN           NaN   \n",
       "1  ...           NaN           NaN           NaN           NaN           NaN   \n",
       "2  ...           NaN           NaN           NaN           NaN           NaN   \n",
       "3  ...           NaN           NaN           NaN           NaN           NaN   \n",
       "4  ...           NaN           NaN           NaN           NaN           NaN   \n",
       "\n",
       "   '||최초승차역ID||'  '||최종하차역ID||'  '||총이용금액||'  '||수집건수||'  '||트립체인완료코드  \n",
       "0            NaN      4116708.0         1350           2            ;  \n",
       "1            NaN      4117269.0         1250           1            ;  \n",
       "2            NaN      4107936.0         1550           1            ;  \n",
       "3            NaN      4116717.0         1250           1            ;  \n",
       "4            NaN      4116848.0         2050           1            ;  \n",
       "\n",
       "[5 rows x 51 columns]"
      ]
     },
     "execution_count": 67,
     "metadata": {},
     "output_type": "execute_result"
    }
   ],
   "source": [
    "tripchain = pd.read_csv(\"TripChain.csv\", encoding = \"utf-8\")\n",
    "tripchain.head()"
   ]
  },
  {
   "cell_type": "markdown",
   "metadata": {},
   "source": [
    "column이 많은 데이터라, column명만 다시 한번 확인합니다. "
   ]
  },
  {
   "cell_type": "code",
   "execution_count": 68,
   "metadata": {},
   "outputs": [
    {
     "data": {
      "text/plain": [
       "Index(['암호화카드번호||'', ''||트랜잭션ID||'', ''||환승횟수||'', ''||교통카드발행사ID||'',\n",
       "       ''||총이용객수||'', ''||사용자구분||'', ''||교통수단CD1||'', ''||교통수단CD2||'',\n",
       "       ''||교통수단CD3||'', ''||교통수단CD4||'', ''||교통수단CD5||'', ''||버스노선ID1||'',\n",
       "       ''||버스노선ID2||'', ''||버스노선ID3||'', ''||버스노선ID4||'', ''||버스노선ID5||'',\n",
       "       ''||차량ID1||'', ''||차량ID2||'', ''||차량ID3||'', ''||차량ID4||'',\n",
       "       ''||차량ID5||'', ''||총통행거리||'', ''||총탑승시간||'', ''||총소요시간||'',\n",
       "       ''||승차일시1||'', ''||승차일시2||'', ''||승차일시3||'', ''||승차일시4||'',\n",
       "       ''||승차일시5||'', ''||하차일시1||'', ''||하차일시2||'', ''||하차일시3||'',\n",
       "       ''||하차일시4||'', ''||하차일시5||'', ''||최초승차일시||'', ''||최종하차일시||'',\n",
       "       ''||승차역ID1||'', ''||승차역ID2||'', ''||승차역ID3||'', ''||승차역ID4||'',\n",
       "       ''||승차역ID5||'', ''||하차역ID1||'', ''||하차역ID2||'', ''||하차역ID3||'',\n",
       "       ''||하차역ID4||'', ''||하차역ID5||'', ''||최초승차역ID||'', ''||최종하차역ID||'',\n",
       "       ''||총이용금액||'', ''||수집건수||'', ''||트립체인완료코드'],\n",
       "      dtype='object')"
      ]
     },
     "execution_count": 68,
     "metadata": {},
     "output_type": "execute_result"
    }
   ],
   "source": [
    "tripchain.columns"
   ]
  },
  {
   "cell_type": "markdown",
   "metadata": {},
   "source": [
    "이 중에서 화성시 출퇴근 시간대의 승하차 정류장 정보 추출에 필요한 column만 추려냅니다. "
   ]
  },
  {
   "cell_type": "code",
   "execution_count": 69,
   "metadata": {},
   "outputs": [
    {
     "data": {
      "text/html": [
       "<div>\n",
       "<style scoped>\n",
       "    .dataframe tbody tr th:only-of-type {\n",
       "        vertical-align: middle;\n",
       "    }\n",
       "\n",
       "    .dataframe tbody tr th {\n",
       "        vertical-align: top;\n",
       "    }\n",
       "\n",
       "    .dataframe thead th {\n",
       "        text-align: right;\n",
       "    }\n",
       "</style>\n",
       "<table border=\"1\" class=\"dataframe\">\n",
       "  <thead>\n",
       "    <tr style=\"text-align: right;\">\n",
       "      <th></th>\n",
       "      <th>'||사용자구분||'</th>\n",
       "      <th>'||최초승차일시||'</th>\n",
       "      <th>'||최종하차일시||'</th>\n",
       "      <th>'||승차역ID1||'</th>\n",
       "      <th>'||최종하차역ID||'</th>\n",
       "    </tr>\n",
       "  </thead>\n",
       "  <tbody>\n",
       "    <tr>\n",
       "      <th>0</th>\n",
       "      <td>1</td>\n",
       "      <td>20180701052543</td>\n",
       "      <td>20180701064826</td>\n",
       "      <td>4116828.0</td>\n",
       "      <td>4116708.0</td>\n",
       "    </tr>\n",
       "    <tr>\n",
       "      <th>1</th>\n",
       "      <td>1</td>\n",
       "      <td>20180701072156</td>\n",
       "      <td>20180701072520</td>\n",
       "      <td>4117280.0</td>\n",
       "      <td>4117269.0</td>\n",
       "    </tr>\n",
       "    <tr>\n",
       "      <th>2</th>\n",
       "      <td>1</td>\n",
       "      <td>20180701123653</td>\n",
       "      <td>20180701134223</td>\n",
       "      <td>4199619.0</td>\n",
       "      <td>4107936.0</td>\n",
       "    </tr>\n",
       "    <tr>\n",
       "      <th>3</th>\n",
       "      <td>1</td>\n",
       "      <td>20180701224424</td>\n",
       "      <td>20180701224543</td>\n",
       "      <td>4108130.0</td>\n",
       "      <td>4116717.0</td>\n",
       "    </tr>\n",
       "    <tr>\n",
       "      <th>4</th>\n",
       "      <td>1</td>\n",
       "      <td>20180701085058</td>\n",
       "      <td>20180701085910</td>\n",
       "      <td>4100122.0</td>\n",
       "      <td>4116848.0</td>\n",
       "    </tr>\n",
       "  </tbody>\n",
       "</table>\n",
       "</div>"
      ],
      "text/plain": [
       "   '||사용자구분||'    '||최초승차일시||'     '||최종하차일시||'  '||승차역ID1||'  '||최종하차역ID||'\n",
       "0            1  20180701052543  20180701064826      4116828.0      4116708.0\n",
       "1            1  20180701072156  20180701072520      4117280.0      4117269.0\n",
       "2            1  20180701123653  20180701134223      4199619.0      4107936.0\n",
       "3            1  20180701224424  20180701224543      4108130.0      4116717.0\n",
       "4            1  20180701085058  20180701085910      4100122.0      4116848.0"
      ]
     },
     "execution_count": 69,
     "metadata": {},
     "output_type": "execute_result"
    }
   ],
   "source": [
    "tripchain = tripchain[[\"'||사용자구분||'\",\"'||최초승차일시||'\",\"'||최종하차일시||'\",\"'||승차역ID1||'\",\"'||최종하차역ID||'\"]]\n",
    "tripchain.head()"
   ]
  },
  {
   "cell_type": "markdown",
   "metadata": {},
   "source": [
    "column명이 복잡함으로, 간단하게 바꿉니다."
   ]
  },
  {
   "cell_type": "code",
   "execution_count": 70,
   "metadata": {},
   "outputs": [
    {
     "data": {
      "text/html": [
       "<div>\n",
       "<style scoped>\n",
       "    .dataframe tbody tr th:only-of-type {\n",
       "        vertical-align: middle;\n",
       "    }\n",
       "\n",
       "    .dataframe tbody tr th {\n",
       "        vertical-align: top;\n",
       "    }\n",
       "\n",
       "    .dataframe thead th {\n",
       "        text-align: right;\n",
       "    }\n",
       "</style>\n",
       "<table border=\"1\" class=\"dataframe\">\n",
       "  <thead>\n",
       "    <tr style=\"text-align: right;\">\n",
       "      <th></th>\n",
       "      <th>사용자구분</th>\n",
       "      <th>최초승차일시</th>\n",
       "      <th>최종하차일시</th>\n",
       "      <th>최초승차역ID</th>\n",
       "      <th>최종하차역ID</th>\n",
       "    </tr>\n",
       "  </thead>\n",
       "  <tbody>\n",
       "    <tr>\n",
       "      <th>0</th>\n",
       "      <td>1</td>\n",
       "      <td>20180701052543</td>\n",
       "      <td>20180701064826</td>\n",
       "      <td>4116828.0</td>\n",
       "      <td>4116708.0</td>\n",
       "    </tr>\n",
       "    <tr>\n",
       "      <th>1</th>\n",
       "      <td>1</td>\n",
       "      <td>20180701072156</td>\n",
       "      <td>20180701072520</td>\n",
       "      <td>4117280.0</td>\n",
       "      <td>4117269.0</td>\n",
       "    </tr>\n",
       "    <tr>\n",
       "      <th>2</th>\n",
       "      <td>1</td>\n",
       "      <td>20180701123653</td>\n",
       "      <td>20180701134223</td>\n",
       "      <td>4199619.0</td>\n",
       "      <td>4107936.0</td>\n",
       "    </tr>\n",
       "    <tr>\n",
       "      <th>3</th>\n",
       "      <td>1</td>\n",
       "      <td>20180701224424</td>\n",
       "      <td>20180701224543</td>\n",
       "      <td>4108130.0</td>\n",
       "      <td>4116717.0</td>\n",
       "    </tr>\n",
       "    <tr>\n",
       "      <th>4</th>\n",
       "      <td>1</td>\n",
       "      <td>20180701085058</td>\n",
       "      <td>20180701085910</td>\n",
       "      <td>4100122.0</td>\n",
       "      <td>4116848.0</td>\n",
       "    </tr>\n",
       "  </tbody>\n",
       "</table>\n",
       "</div>"
      ],
      "text/plain": [
       "   사용자구분          최초승차일시           최종하차일시    최초승차역ID    최종하차역ID\n",
       "0      1  20180701052543  20180701064826   4116828.0  4116708.0\n",
       "1      1  20180701072156  20180701072520   4117280.0  4117269.0\n",
       "2      1  20180701123653  20180701134223   4199619.0  4107936.0\n",
       "3      1  20180701224424  20180701224543   4108130.0  4116717.0\n",
       "4      1  20180701085058  20180701085910   4100122.0  4116848.0"
      ]
     },
     "execution_count": 70,
     "metadata": {},
     "output_type": "execute_result"
    }
   ],
   "source": [
    "tripchain.columns = ['사용자구분','최초승차일시','최종하차일시','최초승차역ID','최종하차역ID']\n",
    "tripchain.head()"
   ]
  },
  {
   "cell_type": "markdown",
   "metadata": {},
   "source": [
    "'최초승차일시'column의 데이터 타입을 확인합니다"
   ]
  },
  {
   "cell_type": "code",
   "execution_count": 71,
   "metadata": {},
   "outputs": [
    {
     "data": {
      "text/plain": [
       "numpy.int64"
      ]
     },
     "execution_count": 71,
     "metadata": {},
     "output_type": "execute_result"
    }
   ],
   "source": [
    "type(tripchain['최초승차일시'][0])"
   ]
  },
  {
   "cell_type": "markdown",
   "metadata": {},
   "source": [
    "'최초승차일시'데이터를 datetime 형태로 바꿔줍니다."
   ]
  },
  {
   "cell_type": "code",
   "execution_count": null,
   "metadata": {},
   "outputs": [],
   "source": [
    "to_str = tripchain['최초승차일시'].astype(str)\n",
    "to_df = pd.DataFrame(to_str)\n",
    "to_dt = pd.to_datetime(to_df['최초승차일시'], errors = 'coerce')\n",
    "dt_to_df = pd.DataFrame(to_dt)\n",
    "tripchain['최초승차일시'] = dt_to_df\n",
    "tripchain.head()"
   ]
  },
  {
   "cell_type": "markdown",
   "metadata": {},
   "source": [
    "위와 같이, '최종하차일시'데이터를 datetime 형태로 바꿔줍니다."
   ]
  },
  {
   "cell_type": "code",
   "execution_count": null,
   "metadata": {},
   "outputs": [],
   "source": [
    "tripchain['최종하차일시'] = pd.to_datetime(tripchain['최종하차일시'], errors = 'coerce')"
   ]
  },
  {
   "cell_type": "markdown",
   "metadata": {},
   "source": [
    "'최종승차일시'데이터에서 필요한 승하차 시간대만 추출하여 새로운 column을 만들어 붙여줍니다."
   ]
  },
  {
   "cell_type": "code",
   "execution_count": null,
   "metadata": {},
   "outputs": [],
   "source": [
    "tripchain['승차시간대'] = tripchain['최초승차일시'].dt.strftime('%H')\n",
    "tripchain['하차시간대'] = tripchain['최종하차일시'].dt.strftime('%H')\n",
    "tripchain.head()"
   ]
  },
  {
   "cell_type": "markdown",
   "metadata": {},
   "source": [
    "출근시간대인 7-9시, 퇴근시간대인 18-20시에 해당되는 데이터만 따로 모아줍니다."
   ]
  },
  {
   "cell_type": "code",
   "execution_count": null,
   "metadata": {},
   "outputs": [],
   "source": [
    "morning = ['07','08','09']\n",
    "evening = ['18','19','20']\n",
    "\n",
    "df_morning = tripchain[tripchain['승차시간대'].isin(morning)]\n",
    "df_evening = tripchain[tripchain['하차시간대'].isin(evening)]\n",
    "df_morning.head()"
   ]
  },
  {
   "cell_type": "markdown",
   "metadata": {},
   "source": [
    "출근시간대에 해당하는 df_morning 데이터에서 승차데이터와 하차데이터를 나눠줍니다. "
   ]
  },
  {
   "cell_type": "code",
   "execution_count": null,
   "metadata": {},
   "outputs": [],
   "source": [
    "df_morning_on = df_morning[['사용자구분','최초승차일시','최초승차역ID','승차시간대']]\n",
    "df_morning_off = df_morning[['사용자구분','최종하차일시','최종하차역ID','하차시간대']]"
   ]
  },
  {
   "cell_type": "markdown",
   "metadata": {},
   "source": [
    "위와 같이 퇴근시간대에 해당하는 df_evening 데이터에서 승차데이터와 하차데이터를 나눠줍니다. "
   ]
  },
  {
   "cell_type": "code",
   "execution_count": null,
   "metadata": {},
   "outputs": [],
   "source": [
    "df_evening.head()"
   ]
  },
  {
   "cell_type": "code",
   "execution_count": null,
   "metadata": {},
   "outputs": [],
   "source": [
    "df_evening_on = df_evening[['사용자구분','최초승차일시','최초승차역ID','승차시간대']]\n",
    "df_evening_off = df_evening[['사용자구분','최종하차일시','최종하차역ID','하차시간대']]"
   ]
  },
  {
   "cell_type": "markdown",
   "metadata": {},
   "source": [
    "df_morning, df_evening 데이터로는, '최초승차열ID','최종하차역ID' 열에 해당하는 정류장 이름과, 위치(위도,경도)를 알 수 없습니다. 따라서 위에서 작업한 화성시 관내 버스정류장 정보(final_combined)를 이용하겠습니다."
   ]
  },
  {
   "cell_type": "markdown",
   "metadata": {},
   "source": [
    "결합을 위해, '최초승차역ID','최종하차역ID' column이름을 바꿔줍니다."
   ]
  },
  {
   "cell_type": "code",
   "execution_count": null,
   "metadata": {},
   "outputs": [],
   "source": [
    "df_morning_on.rename(columns ={'최초승차역ID':'이비카드정류장ID'}, inplace = True)\n",
    "df_morning_off.rename(columns ={'최종하차역ID':'이비카드정류장ID'}, inplace = True)\n",
    "df_evening_on.rename(columns ={'최초승차역ID':'이비카드정류장ID'}, inplace = True)\n",
    "df_evening_off.rename(columns ={'최종하차역ID':'이비카드정류장ID'}, inplace = True)"
   ]
  },
  {
   "cell_type": "code",
   "execution_count": null,
   "metadata": {},
   "outputs": [],
   "source": [
    "df_morning_on.head()"
   ]
  },
  {
   "cell_type": "markdown",
   "metadata": {},
   "source": [
    "'이비카드정류장ID'를 key값으로 화성시 버스 정류장 정보 테이블과 결합합니다. "
   ]
  },
  {
   "cell_type": "code",
   "execution_count": null,
   "metadata": {},
   "outputs": [],
   "source": [
    "df_79_on = pd.merge(df_morning_on, final_combined, on = '이비카드정류장ID')\n",
    "df_79_off = pd.merge(df_morning_off, final_combined, on = \"이비카드정류장ID\")\n",
    "df_1820_on = pd.merge(df_evening_on, final_combined, on = '이비카드정류장ID')\n",
    "df_1820_off = pd.merge(df_evening_off, final_combined, on = '이비카드정류장ID')"
   ]
  },
  {
   "cell_type": "code",
   "execution_count": null,
   "metadata": {},
   "outputs": [],
   "source": [
    "df_79_on.head()"
   ]
  },
  {
   "cell_type": "markdown",
   "metadata": {},
   "source": [
    "이제 출퇴근 시간대에 승하차가 빈번하게 발생하는 정류장을 확인해보겠습니다."
   ]
  },
  {
   "cell_type": "markdown",
   "metadata": {},
   "source": [
    "우선 출근 시간대 승차가 빈번한 상위 50개 정류장을 추출하겠습니다. "
   ]
  },
  {
   "cell_type": "code",
   "execution_count": null,
   "metadata": {},
   "outputs": [],
   "source": [
    "from collections import Counter"
   ]
  },
  {
   "cell_type": "code",
   "execution_count": null,
   "metadata": {},
   "outputs": [],
   "source": [
    "df_79_on_count = Counter(df_79_on['정류장이름'])\n",
    "mc_79_on = df_79_on_count.most_common(50)\n",
    "df_mc_79_on = pd.DataFrame(mc_79_on)\n",
    "df_mc_79_on.columns = ['정류장이름','횟수']\n",
    "df_mc_79_on.head()"
   ]
  },
  {
   "cell_type": "code",
   "execution_count": null,
   "metadata": {},
   "outputs": [],
   "source": [
    "point_79_on = pd.merge(df_79_on[['이비카드정류장ID','정류장이름','위도','경도']], df_mc_79_on, on = '정류장이름', how = 'outer')"
   ]
  },
  {
   "cell_type": "markdown",
   "metadata": {},
   "source": [
    "동일한 정류장 이름을 가진 상행과 하행의 중복값을 제거하였습니다. "
   ]
  },
  {
   "cell_type": "code",
   "execution_count": null,
   "metadata": {},
   "outputs": [],
   "source": [
    "point_79_on = point_79_on.drop_duplicates(['정류장이름'], keep = 'last')"
   ]
  },
  {
   "cell_type": "markdown",
   "metadata": {},
   "source": [
    "결측치를 제거합니다."
   ]
  },
  {
   "cell_type": "code",
   "execution_count": null,
   "metadata": {},
   "outputs": [],
   "source": [
    "point_79_on = point_79_on.dropna()"
   ]
  },
  {
   "cell_type": "code",
   "execution_count": null,
   "metadata": {},
   "outputs": [],
   "source": [
    "point_79_on.sort_values(['횟수'], ascending=[False]).head()"
   ]
  },
  {
   "cell_type": "markdown",
   "metadata": {},
   "source": [
    "마찬가지로 출근 시간대 하차가 빈번한 상위 50개의 정류장을 추출하겠습니다. "
   ]
  },
  {
   "cell_type": "code",
   "execution_count": null,
   "metadata": {},
   "outputs": [],
   "source": [
    "df_79_off_count = Counter(df_79_off['정류장이름'])\n",
    "mc_79_off = df_79_off_count.most_common(50)\n",
    "df_mc_79_off = pd.DataFrame(mc_79_off)\n",
    "df_mc_79_off.columns = ['정류장이름','횟수']\n",
    "df_mo_79_off.head()"
   ]
  },
  {
   "cell_type": "code",
   "execution_count": null,
   "metadata": {},
   "outputs": [],
   "source": [
    "point_79_off = pd.merge(df_79_off[['이비카드정류장ID','정류장이름','위도','경도']], df_mc_79_off, on = '정류장이름', how = 'outer')\n",
    "point_79_off = point_79_off.drop_duplicates(['정류장이름'], keep = 'last')\n",
    "point_79_off = point_79_off.dropna()"
   ]
  },
  {
   "cell_type": "code",
   "execution_count": null,
   "metadata": {},
   "outputs": [],
   "source": [
    "point_79_off.sort_values(['횟수'], ascending=[False]).head()"
   ]
  },
  {
   "cell_type": "markdown",
   "metadata": {},
   "source": [
    "이번에는 퇴근 시간대 승차가 빈번한 상위 50개의 정류장을 추춣하겠습니다. "
   ]
  },
  {
   "cell_type": "code",
   "execution_count": null,
   "metadata": {},
   "outputs": [],
   "source": [
    "df_1820_on_count = Counter(df_1820_on['정류장이름'])\n",
    "mc_1820_on = df_1820_on_count.most_common(50)\n",
    "df_mc_1820_on = pd.DataFrame(mc_1820_on)\n",
    "df_mc_1820_on.columns = ['정류장이름','횟수']\n",
    "df_mo_1820_on.head()"
   ]
  },
  {
   "cell_type": "code",
   "execution_count": null,
   "metadata": {},
   "outputs": [],
   "source": [
    "point_1820_on = pd.merge(df_1820_on[['이비카드정류장ID','정류장이름','위도','경도']], df_mc_1820_on, on = '정류장이름', how = 'outer')\n",
    "point_1820_on = point_1820_on.drop_duplicates(['정류장이름'], keep = 'last')\n",
    "point_1820_on = point_1820_on.dropna()"
   ]
  },
  {
   "cell_type": "code",
   "execution_count": null,
   "metadata": {},
   "outputs": [],
   "source": [
    "point_1820_on.sort_values(['횟수'], ascending=[False]).head()"
   ]
  },
  {
   "cell_type": "markdown",
   "metadata": {},
   "source": [
    "마지막으로 퇴근 시간대 하차가 빈번한 상위 50개 정류장을 추출하겠습니다. "
   ]
  },
  {
   "cell_type": "code",
   "execution_count": null,
   "metadata": {},
   "outputs": [],
   "source": [
    "df_1820_off_count = Counter(df_1820_off['정류장이름'])\n",
    "mc_1820_off = df_1820_off_count.most_common(50)\n",
    "df_mc_1820_off = pd.DataFrame(mc_1820_off)\n",
    "df_mc_1820_off.columns = ['정류장이름','횟수']\n",
    "df_mo_1820_off.head()"
   ]
  },
  {
   "cell_type": "code",
   "execution_count": null,
   "metadata": {},
   "outputs": [],
   "source": [
    "point_1820_off = pd.merge(df_1820_off[['이비카드정류장ID','정류장이름','위도','경도']], df_mc_1820_off, on = '정류장이름', how = 'outer')\n",
    "point_1820_off = point_1820_off.drop_duplicates(['정류장이름'], keep = 'last')\n",
    "point_1820_off = point_1820_off.dropna()"
   ]
  },
  {
   "cell_type": "code",
   "execution_count": null,
   "metadata": {},
   "outputs": [],
   "source": [
    "point_1820_off.sort_values(['횟수'], ascending=[False]).head()"
   ]
  },
  {
   "cell_type": "code",
   "execution_count": null,
   "metadata": {},
   "outputs": [],
   "source": [
    "point_79_on.to_csv(\"point_79_on.csv\", encoding = 'utf-8')\n",
    "point_79_off.to_csv(\"point_79_off.csv\", encoding = 'utf-8')\n",
    "point_1820_on.to_csv(\"point_1820_on.csv\", encoding = 'utf-8')\n",
    "point_1820_off.to_csv(\"point_1820_off.csv\", encoding = 'utf-8')"
   ]
  }
 ],
 "metadata": {
  "kernelspec": {
   "display_name": "Python 3",
   "language": "python",
   "name": "python3"
  },
  "language_info": {
   "codemirror_mode": {
    "name": "ipython",
    "version": 3
   },
   "file_extension": ".py",
   "mimetype": "text/x-python",
   "name": "python",
   "nbconvert_exporter": "python",
   "pygments_lexer": "ipython3",
   "version": "3.7.6"
  }
 },
 "nbformat": 4,
 "nbformat_minor": 4
}
