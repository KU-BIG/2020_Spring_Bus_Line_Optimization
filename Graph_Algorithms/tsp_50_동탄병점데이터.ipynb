{
 "cells": [
  {
   "cell_type": "code",
   "execution_count": 1,
   "metadata": {},
   "outputs": [
    {
     "name": "stderr",
     "output_type": "stream",
     "text": [
      "/Library/Frameworks/Python.framework/Versions/3.8/lib/python3.8/site-packages/sklearn/externals/six.py:28: FutureWarning: The module is deprecated in version 0.21 and will be removed in version 0.23 since we've dropped support for Python 2.7. Please rely on the official version of six (https://pypi.org/project/six/).\n",
      "  warnings.warn(\"The module is deprecated in version 0.21 and will be removed \"\n"
     ]
    }
   ],
   "source": [
    "import pandas as pd\n",
    "import mlrose\n",
    "import numpy as np\n",
    "\n",
    "# 참고 사이트: https://towardsdatascience.com/solving-travelling-salesperson-problems-with-python-5de7e883d847"
   ]
  },
  {
   "cell_type": "code",
   "execution_count": 2,
   "metadata": {},
   "outputs": [
    {
     "data": {
      "text/html": [
       "<div>\n",
       "<style scoped>\n",
       "    .dataframe tbody tr th:only-of-type {\n",
       "        vertical-align: middle;\n",
       "    }\n",
       "\n",
       "    .dataframe tbody tr th {\n",
       "        vertical-align: top;\n",
       "    }\n",
       "\n",
       "    .dataframe thead th {\n",
       "        text-align: right;\n",
       "    }\n",
       "</style>\n",
       "<table border=\"1\" class=\"dataframe\">\n",
       "  <thead>\n",
       "    <tr style=\"text-align: right;\">\n",
       "      <th></th>\n",
       "      <th>Unnamed: 0</th>\n",
       "      <th>이비카드정류장ID</th>\n",
       "      <th>정류장이름</th>\n",
       "      <th>위도</th>\n",
       "      <th>경도</th>\n",
       "      <th>횟수</th>\n",
       "    </tr>\n",
       "  </thead>\n",
       "  <tbody>\n",
       "    <tr>\n",
       "      <th>0</th>\n",
       "      <td>316</td>\n",
       "      <td>4197607.0</td>\n",
       "      <td>서동탄역신일해피트리(중)</td>\n",
       "      <td>37.199500</td>\n",
       "      <td>127.052483</td>\n",
       "      <td>317.0</td>\n",
       "    </tr>\n",
       "    <tr>\n",
       "      <th>1</th>\n",
       "      <td>808</td>\n",
       "      <td>4197590.0</td>\n",
       "      <td>솔빛마을.서해.쌍용아파트</td>\n",
       "      <td>37.195817</td>\n",
       "      <td>127.069633</td>\n",
       "      <td>304.0</td>\n",
       "    </tr>\n",
       "    <tr>\n",
       "      <th>2</th>\n",
       "      <td>1143</td>\n",
       "      <td>4116691.0</td>\n",
       "      <td>안녕농협삼거리</td>\n",
       "      <td>37.205217</td>\n",
       "      <td>127.014700</td>\n",
       "      <td>335.0</td>\n",
       "    </tr>\n",
       "    <tr>\n",
       "      <th>3</th>\n",
       "      <td>1649</td>\n",
       "      <td>4117227.0</td>\n",
       "      <td>수원대학교</td>\n",
       "      <td>37.213750</td>\n",
       "      <td>126.980150</td>\n",
       "      <td>506.0</td>\n",
       "    </tr>\n",
       "    <tr>\n",
       "      <th>4</th>\n",
       "      <td>2030</td>\n",
       "      <td>4197467.0</td>\n",
       "      <td>한빛마을(중)</td>\n",
       "      <td>37.207567</td>\n",
       "      <td>127.069200</td>\n",
       "      <td>381.0</td>\n",
       "    </tr>\n",
       "  </tbody>\n",
       "</table>\n",
       "</div>"
      ],
      "text/plain": [
       "   Unnamed: 0  이비카드정류장ID          정류장이름         위도          경도     횟수\n",
       "0         316  4197607.0  서동탄역신일해피트리(중)  37.199500  127.052483  317.0\n",
       "1         808  4197590.0  솔빛마을.서해.쌍용아파트  37.195817  127.069633  304.0\n",
       "2        1143  4116691.0        안녕농협삼거리  37.205217  127.014700  335.0\n",
       "3        1649  4117227.0          수원대학교  37.213750  126.980150  506.0\n",
       "4        2030  4197467.0        한빛마을(중)  37.207567  127.069200  381.0"
      ]
     },
     "execution_count": 2,
     "metadata": {},
     "output_type": "execute_result"
    }
   ],
   "source": [
    "on_79 = pd.read_csv(\"point_79_on.csv\")\n",
    "on_79.head()\n",
    "# 출근시간 가장 많이 탑승하는 데이터 가지고 분석\n",
    "# 지금은 이렇게 하지만, 추후 출근-퇴근 둘을 섞어서 분석할 예정\n",
    "# 아닌가? 다람쥐버스면 차라리 한곳을 지나는버스가 더 나을수도\n",
    "# 디익스트라 사용하는게 출퇴근 둘다 사용하고, 이런 다람쥐버스는 그냥 한 지역 도는게 나을수도 있겠다.\n",
    "# 조금 더 고민해볼 예정"
   ]
  },
  {
   "cell_type": "code",
   "execution_count": 3,
   "metadata": {},
   "outputs": [],
   "source": [
    "#화성,병점권에 있는 정류장들만 선별\n",
    "un_hsbj = on_79[on_79['경도']<127].index\n",
    "on_79 = on_79.drop(un_hsbj)\n",
    "on_79 = on_79.reset_index(drop=True)"
   ]
  },
  {
   "cell_type": "code",
   "execution_count": 4,
   "metadata": {},
   "outputs": [],
   "source": [
    "subset = on_79[['위도', '경도']]\n",
    "tuple_on79 = [tuple(x) for x in subset.to_numpy()]\n",
    "\n",
    "# 위도 경도 정보를 튜플형태 리스트로"
   ]
  },
  {
   "cell_type": "code",
   "execution_count": 5,
   "metadata": {},
   "outputs": [],
   "source": [
    "fitness_coords = mlrose.TravellingSales(coords = tuple_on79)"
   ]
  },
  {
   "cell_type": "code",
   "execution_count": 6,
   "metadata": {},
   "outputs": [],
   "source": [
    "problem_fit = mlrose.TSPOpt(length=42, fitness_fn = fitness_coords, maximize=False)"
   ]
  },
  {
   "cell_type": "code",
   "execution_count": 7,
   "metadata": {},
   "outputs": [
    {
     "name": "stdout",
     "output_type": "stream",
     "text": [
      "The best state found is: \n",
      " [35 20  7  2 22 18  9 11  8 23 15 39 10 36  5 21 30  1 14 41 17 24  3 12\n",
      " 29 28 34 32  4 19 26 40 31 33 38  6 25  0 37 16 13 27]\n",
      "The fitness at the best state is:\n",
      "  1.0996944620870233\n"
     ]
    }
   ],
   "source": [
    "best_state, best_fitness = mlrose.genetic_alg(problem_fit, random_state = 2)\n",
    "\n",
    "print('The best state found is: \\n', best_state)\n",
    "# the order of visiting, the number is the index of the dataframe\n",
    "print('The fitness at the best state is:\\n ', best_fitness)"
   ]
  },
  {
   "cell_type": "code",
   "execution_count": 8,
   "metadata": {},
   "outputs": [],
   "source": [
    "import folium \n",
    "import folium.plugins\n",
    "\n",
    "# folium for visualization"
   ]
  },
  {
   "cell_type": "code",
   "execution_count": 9,
   "metadata": {},
   "outputs": [],
   "source": [
    "latitude = 37.136881\n",
    "longitude = 127.036171\n",
    "\n",
    "# 화성시 위도경도"
   ]
  },
  {
   "cell_type": "code",
   "execution_count": 10,
   "metadata": {},
   "outputs": [],
   "source": [
    "m = folium.Map(location=[latitude, longitude], zoom_start=12)"
   ]
  },
  {
   "cell_type": "code",
   "execution_count": 11,
   "metadata": {
    "scrolled": true
   },
   "outputs": [
    {
     "data": {
      "text/html": [
       "<div>\n",
       "<style scoped>\n",
       "    .dataframe tbody tr th:only-of-type {\n",
       "        vertical-align: middle;\n",
       "    }\n",
       "\n",
       "    .dataframe tbody tr th {\n",
       "        vertical-align: top;\n",
       "    }\n",
       "\n",
       "    .dataframe thead th {\n",
       "        text-align: right;\n",
       "    }\n",
       "</style>\n",
       "<table border=\"1\" class=\"dataframe\">\n",
       "  <thead>\n",
       "    <tr style=\"text-align: right;\">\n",
       "      <th></th>\n",
       "      <th>Unnamed: 0</th>\n",
       "      <th>이비카드정류장ID</th>\n",
       "      <th>정류장이름</th>\n",
       "      <th>위도</th>\n",
       "      <th>경도</th>\n",
       "      <th>횟수</th>\n",
       "    </tr>\n",
       "  </thead>\n",
       "  <tbody>\n",
       "    <tr>\n",
       "      <th>35</th>\n",
       "      <td>30092</td>\n",
       "      <td>4100049.0</td>\n",
       "      <td>홈플러스.벌말초교</td>\n",
       "      <td>37.203300</td>\n",
       "      <td>127.038133</td>\n",
       "      <td>476.0</td>\n",
       "    </tr>\n",
       "    <tr>\n",
       "      <th>20</th>\n",
       "      <td>18322</td>\n",
       "      <td>4108037.0</td>\n",
       "      <td>신영통현대타운.두산위브</td>\n",
       "      <td>37.235333</td>\n",
       "      <td>127.062100</td>\n",
       "      <td>1564.0</td>\n",
       "    </tr>\n",
       "    <tr>\n",
       "      <th>7</th>\n",
       "      <td>4345</td>\n",
       "      <td>4197554.0</td>\n",
       "      <td>쌍용예가</td>\n",
       "      <td>37.193500</td>\n",
       "      <td>127.071800</td>\n",
       "      <td>328.0</td>\n",
       "    </tr>\n",
       "    <tr>\n",
       "      <th>2</th>\n",
       "      <td>1143</td>\n",
       "      <td>4116691.0</td>\n",
       "      <td>안녕농협삼거리</td>\n",
       "      <td>37.205217</td>\n",
       "      <td>127.014700</td>\n",
       "      <td>335.0</td>\n",
       "    </tr>\n",
       "    <tr>\n",
       "      <th>22</th>\n",
       "      <td>19885</td>\n",
       "      <td>4130136.0</td>\n",
       "      <td>남수원현대아파트</td>\n",
       "      <td>37.207667</td>\n",
       "      <td>127.010517</td>\n",
       "      <td>350.0</td>\n",
       "    </tr>\n",
       "  </tbody>\n",
       "</table>\n",
       "</div>"
      ],
      "text/plain": [
       "    Unnamed: 0  이비카드정류장ID         정류장이름         위도          경도      횟수\n",
       "35       30092  4100049.0     홈플러스.벌말초교  37.203300  127.038133   476.0\n",
       "20       18322  4108037.0  신영통현대타운.두산위브  37.235333  127.062100  1564.0\n",
       "7         4345  4197554.0          쌍용예가  37.193500  127.071800   328.0\n",
       "2         1143  4116691.0       안녕농협삼거리  37.205217  127.014700   335.0\n",
       "22       19885  4130136.0      남수원현대아파트  37.207667  127.010517   350.0"
      ]
     },
     "execution_count": 11,
     "metadata": {},
     "output_type": "execute_result"
    }
   ],
   "source": [
    "# best_state: index 순서\n",
    "# on_79 df 사용해서 folium에 길 그리기\n",
    "\n",
    "# reindex using the tsp result\n",
    "new_index = best_state\n",
    "replaced = on_79.reindex(new_index)\n",
    "replaced.head()"
   ]
  },
  {
   "cell_type": "code",
   "execution_count": 12,
   "metadata": {
    "scrolled": true
   },
   "outputs": [
    {
     "data": {
      "text/html": [
       "<div>\n",
       "<style scoped>\n",
       "    .dataframe tbody tr th:only-of-type {\n",
       "        vertical-align: middle;\n",
       "    }\n",
       "\n",
       "    .dataframe tbody tr th {\n",
       "        vertical-align: top;\n",
       "    }\n",
       "\n",
       "    .dataframe thead th {\n",
       "        text-align: right;\n",
       "    }\n",
       "</style>\n",
       "<table border=\"1\" class=\"dataframe\">\n",
       "  <thead>\n",
       "    <tr style=\"text-align: right;\">\n",
       "      <th></th>\n",
       "      <th>Unnamed: 0</th>\n",
       "      <th>이비카드정류장ID</th>\n",
       "      <th>정류장이름</th>\n",
       "      <th>위도</th>\n",
       "      <th>경도</th>\n",
       "      <th>횟수</th>\n",
       "    </tr>\n",
       "  </thead>\n",
       "  <tbody>\n",
       "    <tr>\n",
       "      <th>35</th>\n",
       "      <td>30092</td>\n",
       "      <td>4100049.0</td>\n",
       "      <td>홈플러스.벌말초교</td>\n",
       "      <td>37.203300</td>\n",
       "      <td>127.038133</td>\n",
       "      <td>476.0</td>\n",
       "    </tr>\n",
       "    <tr>\n",
       "      <th>20</th>\n",
       "      <td>18322</td>\n",
       "      <td>4108037.0</td>\n",
       "      <td>신영통현대타운.두산위브</td>\n",
       "      <td>37.235333</td>\n",
       "      <td>127.062100</td>\n",
       "      <td>1564.0</td>\n",
       "    </tr>\n",
       "    <tr>\n",
       "      <th>7</th>\n",
       "      <td>4345</td>\n",
       "      <td>4197554.0</td>\n",
       "      <td>쌍용예가</td>\n",
       "      <td>37.193500</td>\n",
       "      <td>127.071800</td>\n",
       "      <td>328.0</td>\n",
       "    </tr>\n",
       "    <tr>\n",
       "      <th>2</th>\n",
       "      <td>1143</td>\n",
       "      <td>4116691.0</td>\n",
       "      <td>안녕농협삼거리</td>\n",
       "      <td>37.205217</td>\n",
       "      <td>127.014700</td>\n",
       "      <td>335.0</td>\n",
       "    </tr>\n",
       "    <tr>\n",
       "      <th>22</th>\n",
       "      <td>19885</td>\n",
       "      <td>4130136.0</td>\n",
       "      <td>남수원현대아파트</td>\n",
       "      <td>37.207667</td>\n",
       "      <td>127.010517</td>\n",
       "      <td>350.0</td>\n",
       "    </tr>\n",
       "  </tbody>\n",
       "</table>\n",
       "</div>"
      ],
      "text/plain": [
       "    Unnamed: 0  이비카드정류장ID         정류장이름         위도          경도      횟수\n",
       "35       30092  4100049.0     홈플러스.벌말초교  37.203300  127.038133   476.0\n",
       "20       18322  4108037.0  신영통현대타운.두산위브  37.235333  127.062100  1564.0\n",
       "7         4345  4197554.0          쌍용예가  37.193500  127.071800   328.0\n",
       "2         1143  4116691.0       안녕농협삼거리  37.205217  127.014700   335.0\n",
       "22       19885  4130136.0      남수원현대아파트  37.207667  127.010517   350.0"
      ]
     },
     "execution_count": 12,
     "metadata": {},
     "output_type": "execute_result"
    }
   ],
   "source": [
    "replaced.head()\n",
    "# replaced dataframe은 TSP 알고리즘에서 방문 순서대로"
   ]
  },
  {
   "cell_type": "code",
   "execution_count": 13,
   "metadata": {},
   "outputs": [
    {
     "data": {
      "text/plain": [
       "42"
      ]
     },
     "execution_count": 13,
     "metadata": {},
     "output_type": "execute_result"
    }
   ],
   "source": [
    "# make list of longitude and latitude to draw routes in folium\n",
    "locations = replaced[['위도', '경도']]\n",
    "locationlist = locations.values.tolist()\n",
    "len(locationlist)\n",
    "# locationlist[0]"
   ]
  },
  {
   "cell_type": "code",
   "execution_count": 14,
   "metadata": {},
   "outputs": [
    {
     "data": {
      "text/plain": [
       "<folium.vector_layers.PolyLine at 0x7fcdbc711760>"
      ]
     },
     "execution_count": 14,
     "metadata": {},
     "output_type": "execute_result"
    }
   ],
   "source": [
    "import pandas as pd\n",
    "import requests\n",
    "from xml.etree import ElementTree\n",
    "import numpy as np\n",
    "import folium\n",
    "i=1\n",
    "\n",
    "for point in range(0, len(locationlist)):\n",
    "    # i: 방문순서, pop-up에 커서를 대면 순서가 나온다.\n",
    "    folium.Marker(locationlist[point], i).add_to(m)\n",
    "    i = i+1\n",
    "m\n",
    "\n",
    "# draw lines\n",
    "# add lines\n",
    "folium.PolyLine(locationlist, color=\"purple\", weight=2.5, opacity=1).add_to(m)"
   ]
  },
  {
   "cell_type": "code",
   "execution_count": null,
   "metadata": {
    "scrolled": true
   },
   "outputs": [],
   "source": []
  },
  {
   "cell_type": "code",
   "execution_count": 15,
   "metadata": {},
   "outputs": [],
   "source": [
    "m.save('index.html')"
   ]
  },
  {
   "cell_type": "code",
   "execution_count": null,
   "metadata": {},
   "outputs": [],
   "source": []
  },
  {
   "cell_type": "code",
   "execution_count": null,
   "metadata": {},
   "outputs": [],
   "source": []
  }
 ],
 "metadata": {
  "kernelspec": {
   "display_name": "Python 3",
   "language": "python",
   "name": "python3"
  },
  "language_info": {
   "codemirror_mode": {
    "name": "ipython",
    "version": 3
   },
   "file_extension": ".py",
   "mimetype": "text/x-python",
   "name": "python",
   "nbconvert_exporter": "python",
   "pygments_lexer": "ipython3",
   "version": "3.8.2"
  }
 },
 "nbformat": 4,
 "nbformat_minor": 2
}
